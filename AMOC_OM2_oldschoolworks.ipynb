{
 "cells": [
  {
   "cell_type": "code",
   "execution_count": 1,
   "metadata": {},
   "outputs": [],
   "source": [
    "%matplotlib inline\n",
    "\n",
    "import cosima_cookbook as cc\n",
    "import matplotlib.pyplot as plt\n",
    "import xarray as xr\n",
    "import numpy as np\n",
    "import pandas as pd\n",
    "import cmocean as cm\n",
    "import cartopy.crs as ccrs\n",
    "import cartopy.feature as cft\n",
    "import sys, os\n",
    "from netCDF4 import Dataset # to work with NetCDF files\n",
    "\n",
    "import logging\n",
    "logging.captureWarnings(True)\n",
    "logging.getLogger('py.warnings').setLevel(logging.ERROR)\n",
    "\n",
    "from dask.distributed import Client"
   ]
  },
  {
   "cell_type": "code",
   "execution_count": null,
   "metadata": {},
   "outputs": [],
   "source": [
    "## This is the method we use to get around memory issues. To implement, use:\n",
    "## dask-scheduler # get the tcp code from this call in a jupyter new terminal, then run command below in a another terminal\n",
    "## dask-worker tcp://10.0.64.9:8786 --memory-limit 4e9 --nprocs 6 --nthreads 1 --local-directory /local/v45/pas561\n",
    "client=Client('tcp://10.0.64.24:8786', local_dir='/local/v45/pas561')\n",
    "client"
   ]
  },
  {
   "cell_type": "code",
   "execution_count": 2,
   "metadata": {},
   "outputs": [
    {
     "name": "stdout",
     "output_type": "stream",
     "text": [
      "/g/data1/v45/pas561/access-om2_amoc/om2_01_amoc_mask_newdims.nc\n",
      "(1, 2700, 3600)\n",
      "(2700, 3600)\n"
     ]
    },
    {
     "data": {
      "image/png": "[encoded data removed]",
      "text/plain": [
       "<Figure size 432x288 with 4 Axes>"
      ]
     },
     "metadata": {
      "needs_background": "light"
     },
     "output_type": "display_data"
    }
   ],
   "source": [
    "NYFCntrlDir = '/g/data1/v45/pas561/access-om2_amoc/'\n",
    "\n",
    "Ocean_File = os.path.join(NYFCntrlDir,'om2_01_amoc_mask_newdims.nc')\n",
    "print(Ocean_File)\n",
    "cntrl=xr.open_mfdataset(Ocean_File,engine='netcdf4',concat_dim='time',decode_times=False)\n",
    "print(cntrl.kmu.shape)\n",
    "mask=cntrl.kmu[0].load()\n",
    "\n",
    "plt.subplot(211)\n",
    "clev = np.arange(-2,2,0.5)\n",
    "plt.contourf(mask,cmap=plt.cm.PiYG,levels=clev,extend='both')\n",
    "cb=plt.colorbar(orientation='vertical',shrink = 0.7)\n",
    "\n",
    "print(mask.shape)\n",
    "#print(mask[250,:])\n",
    "\n",
    "mask=np.nan_to_num(mask)\n",
    "#print(mask[250,:])\n",
    "\n",
    "plt.subplot(212)\n",
    "clev = np.arange(-2,2,0.5)\n",
    "plt.contourf(mask,cmap=plt.cm.PiYG,levels=clev,extend='both')\n",
    "cb=plt.colorbar(orientation='vertical',shrink = 0.7)\n",
    "\n",
    "#mask2=mask.sel(xt_ocean=slice(-80,50)).sel(yu_ocean=slice(-35,70))\n"
   ]
  },
  {
   "cell_type": "code",
   "execution_count": 3,
   "metadata": {},
   "outputs": [
    {
     "name": "stdout",
     "output_type": "stream",
     "text": [
      "/g/data1/v45/pas561/access-om2_amoc/om2_01_amoc_mask_newdims.nc\n",
      "(1, 2700, 3600)\n",
      "(1356, 1300)\n"
     ]
    },
    {
     "data": {
      "image/png": "[encoded data removed]",
      "text/plain": [
       "<Figure size 432x288 with 2 Axes>"
      ]
     },
     "metadata": {
      "needs_background": "light"
     },
     "output_type": "display_data"
    }
   ],
   "source": [
    "NYFCntrlDir = '/g/data1/v45/pas561/access-om2_amoc/'\n",
    "\n",
    "Ocean_File = os.path.join(NYFCntrlDir,'om2_01_amoc_mask_newdims.nc')\n",
    "print(Ocean_File)\n",
    "cntrl=xr.open_mfdataset(Ocean_File,engine='netcdf4',concat_dim='time',decode_times=False)\n",
    "print(cntrl.kmu.shape)\n",
    "\n",
    "mask2=cntrl.kmu[0].sel(grid_xt_ocean=slice(-80,50)).sel(grid_yu_ocean=slice(-35,70)).load()\n",
    "\n",
    "print(mask2.shape)\n",
    "\n",
    "plt.subplot(212)\n",
    "clev = np.arange(-2,2,0.5)\n",
    "plt.contourf(mask2,cmap=plt.cm.PiYG,levels=clev,extend='both')\n",
    "cb=plt.colorbar(orientation='vertical',shrink = 0.7)\n"
   ]
  },
  {
   "cell_type": "code",
   "execution_count": null,
   "metadata": {},
   "outputs": [],
   "source": [
    "NYFPertDir = '/g/data3/hh5/tmp/cosima/access-om2-01/01deg_jra55v13_iaf/'\n",
    "\n",
    "Ocean_File = os.path.join(NYFPertDir,'output*/ocean/ocean.nc')\n",
    "print(Ocean_File)\n",
    "#pert=xr.open_mfdataset(Ocean_File,engine='netcdf4',concat_dim='time',decode_times=False)\n",
    "pert=xr.open_mfdataset(Ocean_File, concat_dim='time', decode_times=False, preprocess=lambda d: d['ty_trans'].to_dataset())\n",
    "\n",
    "\n",
    "print(pert.ty_trans.shape)\n",
    "\n",
    "#for some reason the 180to189 files won't load while 0to99 will???\n",
    "\n",
    "##pert_gmoc=np.zeros((pert.ty_trans_rho.shape[0],pert.ty_trans_rho.shape[1],pert.ty_trans_rho.shape[2]))\n",
    "#pert_gmoc=np.zeros((22,1364,1463))#pert.ty_trans_rho.shape[1],pert.ty_trans_rho.shape[2]))\n",
    "#print(pert_gmoc.shape)\n",
    "##pert_gmoc[0:78,:,:]=pert_gmoc2"
   ]
  },
  {
   "cell_type": "code",
   "execution_count": null,
   "metadata": {},
   "outputs": [],
   "source": [
    "pert_gmoc=np.zeros((pert.ty_trans.shape[0],75,2700))#1364))#pert.ty_trans_rho.shape[1],pert.ty_trans_rho.shape[2]))\n",
    "print(pert_gmoc.shape)\n",
    "\n",
    "for t in range(0,pert.ty_trans.shape[0]): #pert.ty_trans_rho.shape[0]):\n",
    "    print(t)\n",
    "    #pert_gmoc[t,:,:]=pert.ty_trans_rho[t,:,:,:].sum('grid_xt_ocean').cumsum('potrho')*mask\n",
    "    #tmp=pert.ty_trans[t,:,868:2232,1787:3250]*mask[868:2232,1787:3250]\n",
    "    tmp=pert.ty_trans[t,:,:,:]*mask\n",
    "    print(tmp.shape)\n",
    "    pert_gmoc[t,:,:]=tmp.sum(axis=2).cumsum(axis=0)*1.0e-9 -tmp.sum(axis=2).sum(axis=0)*1.0e-9\n",
    "\n",
    "print(pert_gmoc.shape)\n",
    "a=np.save('01_amoc_adv_z_01_t0to197.npy',pert_gmoc)"
   ]
  },
  {
   "cell_type": "code",
   "execution_count": 4,
   "metadata": {},
   "outputs": [
    {
     "name": "stdout",
     "output_type": "stream",
     "text": [
      "(80, 80, 2700, 3600)\n",
      "(80, 80, 2700)\n",
      "0\n",
      "(80, 2700, 3600)\n",
      "1\n",
      "(80, 2700, 3600)\n",
      "2\n",
      "(80, 2700, 3600)\n",
      "3\n",
      "(80, 2700, 3600)\n",
      "4\n",
      "(80, 2700, 3600)\n",
      "5\n",
      "(80, 2700, 3600)\n",
      "6\n",
      "(80, 2700, 3600)\n",
      "7\n",
      "(80, 2700, 3600)\n",
      "8\n",
      "(80, 2700, 3600)\n",
      "9\n",
      "(80, 2700, 3600)\n",
      "10\n",
      "(80, 2700, 3600)\n",
      "11\n",
      "(80, 2700, 3600)\n",
      "12\n",
      "(80, 2700, 3600)\n",
      "13\n",
      "(80, 2700, 3600)\n",
      "14\n",
      "(80, 2700, 3600)\n",
      "15\n",
      "(80, 2700, 3600)\n",
      "16\n",
      "(80, 2700, 3600)\n",
      "17\n",
      "(80, 2700, 3600)\n",
      "18\n",
      "(80, 2700, 3600)\n",
      "19\n",
      "(80, 2700, 3600)\n",
      "20\n",
      "(80, 2700, 3600)\n",
      "21\n",
      "(80, 2700, 3600)\n",
      "22\n",
      "(80, 2700, 3600)\n",
      "23\n",
      "(80, 2700, 3600)\n",
      "24\n",
      "(80, 2700, 3600)\n",
      "25\n",
      "(80, 2700, 3600)\n",
      "26\n",
      "(80, 2700, 3600)\n",
      "27\n",
      "(80, 2700, 3600)\n",
      "28\n",
      "(80, 2700, 3600)\n",
      "29\n",
      "(80, 2700, 3600)\n",
      "30\n",
      "(80, 2700, 3600)\n",
      "31\n",
      "(80, 2700, 3600)\n",
      "32\n",
      "(80, 2700, 3600)\n",
      "33\n",
      "(80, 2700, 3600)\n",
      "34\n",
      "(80, 2700, 3600)\n",
      "35\n",
      "(80, 2700, 3600)\n",
      "36\n",
      "(80, 2700, 3600)\n",
      "37\n",
      "(80, 2700, 3600)\n",
      "38\n",
      "(80, 2700, 3600)\n",
      "39\n",
      "(80, 2700, 3600)\n",
      "40\n",
      "(80, 2700, 3600)\n",
      "41\n",
      "(80, 2700, 3600)\n",
      "42\n",
      "(80, 2700, 3600)\n",
      "43\n",
      "(80, 2700, 3600)\n",
      "44\n",
      "(80, 2700, 3600)\n",
      "45\n",
      "(80, 2700, 3600)\n",
      "46\n",
      "(80, 2700, 3600)\n",
      "47\n",
      "(80, 2700, 3600)\n",
      "48\n",
      "(80, 2700, 3600)\n",
      "49\n",
      "(80, 2700, 3600)\n",
      "50\n",
      "(80, 2700, 3600)\n",
      "51\n",
      "(80, 2700, 3600)\n",
      "52\n",
      "(80, 2700, 3600)\n",
      "53\n",
      "(80, 2700, 3600)\n",
      "54\n",
      "(80, 2700, 3600)\n",
      "55\n",
      "(80, 2700, 3600)\n",
      "56\n",
      "(80, 2700, 3600)\n",
      "57\n",
      "(80, 2700, 3600)\n",
      "58\n",
      "(80, 2700, 3600)\n",
      "59\n",
      "(80, 2700, 3600)\n",
      "60\n",
      "(80, 2700, 3600)\n",
      "61\n",
      "(80, 2700, 3600)\n",
      "62\n",
      "(80, 2700, 3600)\n",
      "63\n",
      "(80, 2700, 3600)\n",
      "64\n",
      "(80, 2700, 3600)\n",
      "65\n",
      "(80, 2700, 3600)\n",
      "66\n",
      "(80, 2700, 3600)\n",
      "67\n",
      "(80, 2700, 3600)\n",
      "68\n",
      "(80, 2700, 3600)\n",
      "69\n",
      "(80, 2700, 3600)\n",
      "70\n",
      "(80, 2700, 3600)\n",
      "71\n",
      "(80, 2700, 3600)\n",
      "72\n",
      "(80, 2700, 3600)\n",
      "73\n",
      "(80, 2700, 3600)\n",
      "74\n",
      "(80, 2700, 3600)\n",
      "75\n",
      "(80, 2700, 3600)\n",
      "76\n",
      "(80, 2700, 3600)\n",
      "77\n",
      "(80, 2700, 3600)\n",
      "78\n",
      "(80, 2700, 3600)\n",
      "79\n",
      "(80, 2700, 3600)\n",
      "(80, 80, 2700)\n"
     ]
    }
   ],
   "source": [
    "NYFPertDir = '/g/data3/hh5/tmp/cosima/access-om2-01/01deg_jra55v13_iaf/'\n",
    "Ocean_File = os.path.join(NYFPertDir,'output0[6-9]*/ocean/ocean.nc')\n",
    "pert=xr.open_mfdataset(Ocean_File, concat_dim='time', decode_times=False, preprocess=lambda d: d['ty_trans_rho'].to_dataset())\n",
    "\n",
    "print(pert.ty_trans_rho.shape)\n",
    "\n",
    "pert_gmoc=np.zeros((pert.ty_trans_rho.shape[0],pert.ty_trans_rho.shape[1],pert.ty_trans_rho.shape[2]))\n",
    "print(pert_gmoc.shape)\n",
    "\n",
    "for t in range(0,pert.ty_trans_rho.shape[0]):\n",
    "    print(t)\n",
    "    tmp=pert.ty_trans_rho[t,:,:,:]*mask\n",
    "    print(tmp.shape)\n",
    "    pert_gmoc[t,:,:]=tmp.sum(axis=2).cumsum(axis=0)*1.0e-9 -tmp.sum(axis=2).sum(axis=0)*1.0e-9\n",
    "\n",
    "print(pert_gmoc.shape)\n",
    "a=np.save('01_amoc_adv_rho_01_t60to99.npy',pert_gmoc)\n"
   ]
  },
  {
   "cell_type": "code",
   "execution_count": null,
   "metadata": {},
   "outputs": [],
   "source": []
  },
  {
   "cell_type": "code",
   "execution_count": null,
   "metadata": {},
   "outputs": [],
   "source": [
    "#years\n",
    "#0to4 yr1 - 3 months per\n",
    "#05-197 - 2 months per"
   ]
  },
  {
   "cell_type": "code",
   "execution_count": 2,
   "metadata": {},
   "outputs": [
    {
     "name": "stdout",
     "output_type": "stream",
     "text": [
      "(80,)\n",
      "(2700,)\n"
     ]
    }
   ],
   "source": [
    "nc = Dataset('/g/data3/hh5/tmp/cosima/access-om2-01/01deg_jra55v13_iaf/output001/ocean/ocean.nc', mode='r') # file handle, open in read only mode\n",
    "st_ocean = nc.variables['st_ocean'][:]\n",
    "potrho = nc.variables['potrho'][:]\n",
    "yu_ocean = nc.variables['yu_ocean'][:]\n",
    "nc.close() # close the file\n",
    "print(potrho.shape)\n",
    "print(yu_ocean.shape)"
   ]
  },
  {
   "cell_type": "code",
   "execution_count": null,
   "metadata": {},
   "outputs": [],
   "source": [
    "amoc=np.load('01_amoc_adv_rho_01_t19.npy')\n",
    "print(amoc.shape)\n",
    "gmoc=np.load('01_gmoc_adv_rho_01_t19.npy')\n",
    "print(gmoc.shape)\n",
    "\n",
    "#these have the -tmp.sum(axis=2).sum(axis=0)*1.0e-9 correction, the above do not.\n",
    "amocv2=np.load('01_amoc_adv_rho_01_t19v2.npy')\n",
    "print(amoc.shape)\n",
    "gmocv2=np.load('01_gmoc_adv_rho_01_t19v2.npy')\n",
    "print(gmoc.shape)"
   ]
  },
  {
   "cell_type": "code",
   "execution_count": null,
   "metadata": {},
   "outputs": [],
   "source": [
    "clev = np.arange(-10,10,1)\n",
    "plt.subplot(221)\n",
    "plt.contourf(yu_ocean,potrho,amoc[4:16,:,:].mean(axis=0),cmap=plt.cm.PiYG,levels=clev,extend='both')\n",
    "cb=plt.colorbar(orientation='vertical',shrink = 0.7)\n",
    "cb.ax.set_xlabel('Sv')\n",
    "plt.gca().invert_yaxis()\n",
    "#plt.gca().yaxis.set_major_formatter(x_formatter)\n",
    "plt.ylim((1037.5,1034))\n",
    "plt.ylabel('Depth (m)')\n",
    "plt.xlabel('Latitude ($^\\circ$N)')\n",
    "plt.xlim([-30,70])\n",
    "plt.title('AMOC')\n",
    "\n",
    "plt.subplot(222)\n",
    "plt.contourf(yu_ocean,potrho,gmoc[4:16,:,:].mean(axis=0),cmap=plt.cm.PiYG,levels=clev,extend='both')\n",
    "cb=plt.colorbar(orientation='vertical',shrink = 0.7)\n",
    "cb.ax.set_xlabel('Sv')\n",
    "plt.gca().invert_yaxis()\n",
    "#plt.gca().yaxis.set_major_formatter(x_formatter)\n",
    "plt.ylim((1037.5,1034))\n",
    "plt.ylabel('Depth (m)')\n",
    "plt.xlabel('Latitude ($^\\circ$N)')\n",
    "plt.xlim([-30,70])\n",
    "plt.title('GMOC')\n",
    "\n",
    "plt.subplot(223)\n",
    "plt.contourf(yu_ocean,potrho,amocv2[4:16,:,:].mean(axis=0),cmap=plt.cm.PiYG,levels=clev,extend='both')\n",
    "cb=plt.colorbar(orientation='vertical',shrink = 0.7)\n",
    "cb.ax.set_xlabel('Sv')\n",
    "plt.gca().invert_yaxis()\n",
    "#plt.gca().yaxis.set_major_formatter(x_formatter)\n",
    "plt.ylim((1037.5,1034))\n",
    "plt.ylabel('Depth (m)')\n",
    "plt.xlabel('Latitude ($^\\circ$N)')\n",
    "plt.xlim([-30,70])\n",
    "plt.title('AMOCv2')\n",
    "\n",
    "plt.subplot(224)\n",
    "plt.contourf(yu_ocean,potrho,gmocv2[4:16,:,:].mean(axis=0),cmap=plt.cm.PiYG,levels=clev,extend='both')\n",
    "cb=plt.colorbar(orientation='vertical',shrink = 0.7)\n",
    "cb.ax.set_xlabel('Sv')\n",
    "plt.gca().invert_yaxis()\n",
    "#plt.gca().yaxis.set_major_formatter(x_formatter)\n",
    "plt.ylim((1037.5,1034))\n",
    "plt.ylabel('Depth (m)')\n",
    "plt.xlabel('Latitude ($^\\circ$N)')\n",
    "plt.xlim([-30,70])\n",
    "plt.title('GMOCv2')"
   ]
  },
  {
   "cell_type": "code",
   "execution_count": null,
   "metadata": {},
   "outputs": [],
   "source": [
    "expt = '01deg_jra55v13_iaf'\n",
    "n_files = None                          ## For Testing\n",
    "time_units = 'days since 0001-01-01'   ## These are to give correct dates\n",
    "offset = None\n",
    "\n",
    "psi = cc.get_nc_variable(expt,'ocean.nc','ty_trans_rho',\n",
    "                                        n=n_files,time_units=time_units, offset=offset)\n",
    "#float ty_trans_rho(time, potrho, grid_yu_ocean, grid_xt_ocean) ;\n",
    "psi = psi.sel(grid_xt_ocean=slice(-80,50)).sel(grid_yu_ocean=slice(-35,70)).resample(time='A').mean('time')\n",
    "\n",
    "#psi = psi.resample(time='A').mean('time')\n",
    "\n",
    "print(psi.shape)\n",
    "\n",
    "psi=psi*mask2\n",
    "\n",
    "print(psi.shape)\n",
    "\n",
    "\n",
    "print(' ------ Here is what the initial dataset looks like ------ ')\n",
    "print(psi)\n",
    "print(' --------------------------------------------------------- ')\n",
    "print(' ')\n",
    "\n",
    "psi = psi.sum('grid_xt_ocean')*1.0e-9\n",
    "psi = psi.cumsum('potrho') -  psi.sum('potrho')\n",
    "\n",
    "\n",
    "#print(' ------ Here is what the resampled dataset looks like ------ ')\n",
    "#print(' --------------------------------------------------------- ')\n",
    "#print(' ')\n",
    "\n",
    "## Plot the mean for the North Atlantic region\n",
    "#psi.mean('time').plot.contourf(levels=np.arange(-29,30,2))\n",
    "\n",
    "#of=os.path.join('amoc01.npy')\n",
    "#a=np.save(of,psi)\n",
    "\n",
    "print(psi.shape)\n",
    "\n",
    "## Save the whole dataset\n",
    "#psi.to_netcdf('AMOC_rho_adv_01deg.nc')"
   ]
  },
  {
   "cell_type": "code",
   "execution_count": null,
   "metadata": {},
   "outputs": [],
   "source": [
    "psi2 = psi[0,:,:]\n",
    "print(psi2.shape)\n",
    "\n",
    "## Plot the mean for the North Atlantic region\n",
    "psi2.plot.contourf(levels=np.arange(-29,30,2))\n"
   ]
  },
  {
   "cell_type": "code",
   "execution_count": null,
   "metadata": {},
   "outputs": [],
   "source": [
    "psi2.to_netcdf('AMOC_rho_adv_01deg_t5.nc')\n",
    "\n",
    "#of=os.path.join('amoc01.npy')\n",
    "#a=np.save('amoc01_v1.npy',psi[0:10,:,:])"
   ]
  },
  {
   "cell_type": "code",
   "execution_count": null,
   "metadata": {},
   "outputs": [],
   "source": []
  },
  {
   "cell_type": "code",
   "execution_count": null,
   "metadata": {},
   "outputs": [],
   "source": [
    "#psi.mean('time').plot.contourf(levels=np.arange(-29,30,2))\n",
    "\n",
    "## Save the whole dataset\n"
   ]
  },
  {
   "cell_type": "code",
   "execution_count": 11,
   "metadata": {},
   "outputs": [
    {
     "name": "stdout",
     "output_type": "stream",
     "text": [
      "(396, 75, 2700)\n",
      "(80,) (2700,) (75,)\n"
     ]
    }
   ],
   "source": [
    "amoc_z=np.load('01_amoc_adv_z_01_t0to197.npy')\n",
    "print(amoc_z.shape)\n",
    "print(potrho.shape,yu_ocean.shape,st_ocean.shape)\n"
   ]
  },
  {
   "cell_type": "code",
   "execution_count": 9,
   "metadata": {},
   "outputs": [
    {
     "name": "stdout",
     "output_type": "stream",
     "text": [
      "(120, 80, 2700)\n",
      "(80, 80, 2700)\n",
      "(120, 80, 2700)\n",
      "(76, 80, 2700)\n",
      "(396, 80, 2700)\n"
     ]
    }
   ],
   "source": [
    "amoc_r1=np.load('01_amoc_adv_rho_01_t0to59.npy')\n",
    "print(amoc_r1.shape)\n",
    "amoc_r2=np.load('01_amoc_adv_rho_01_t60to99.npy')\n",
    "print(amoc_r2.shape)\n",
    "amoc_r3=np.load('01_amoc_adv_rho_01_t100to159.npy')\n",
    "print(amoc_r3.shape)\n",
    "amoc_r4=np.load('01_amoc_adv_rho_01_t160to197.npy')\n",
    "print(amoc_r4.shape)\n",
    "\n",
    "\n",
    "amoc_r=np.concatenate((amoc_r1, amoc_r2,amoc_r3,amoc_r4), axis=0)\n",
    "print(amoc_r.shape)"
   ]
  },
  {
   "cell_type": "code",
   "execution_count": 19,
   "metadata": {},
   "outputs": [],
   "source": [
    "#create and write netcdf file\n",
    "rootgrp = Dataset(\"amoc_transport_01.nc\", \"w\")\n",
    "\n",
    "#float amoc_gm_rho(time, potrho, grid_yu_ocean) ;\n",
    "t = rootgrp.createDimension(\"time\", None)\n",
    "rho = rootgrp.createDimension(\"potrho\", 80)\n",
    "yu = rootgrp.createDimension(\"yu_ocean\", 2700)\n",
    "st = rootgrp.createDimension(\"st_ocean\", 75)\n",
    "\n",
    "times= rootgrp.createVariable(\"time\",\"f8\",(\"time\",))\n",
    "potrhos= rootgrp.createVariable(\"potrho\",\"f8\",(\"potrho\",))\n",
    "yu_oceans= rootgrp.createVariable(\"yu_ocean\",\"f8\",(\"yu_ocean\",))\n",
    "st_oceans= rootgrp.createVariable(\"st_ocean\",\"f8\",(\"st_ocean\",))\n",
    "\n",
    "#temp = tempgrp.createVariable('Temperature', 'f4', ('time', 'lon', 'lat', 'z'))\n",
    "amoc_adv_z= rootgrp.createVariable(\"amoc_adv_z\",\"f8\",(\"time\",\"st_ocean\",\"yu_ocean\",))\n",
    "amoc_adv_rho= rootgrp.createVariable(\"amoc_adv_rho\",\"f8\",(\"time\",\"potrho\",\"yu_ocean\",))\n",
    "\n",
    "\n",
    "potrhos[:]=potrho\n",
    "st_oceans[:]=st_ocean\n",
    "yu_oceans[:]=yu_ocean\n",
    "amoc_adv_z[:]=amoc_z\n",
    "amoc_adv_rho[:]=amoc_r\n",
    "\n",
    "\n",
    "rootgrp.close()\n"
   ]
  },
  {
   "cell_type": "code",
   "execution_count": null,
   "metadata": {},
   "outputs": [],
   "source": []
  },
  {
   "cell_type": "code",
   "execution_count": 10,
   "metadata": {},
   "outputs": [
    {
     "name": "stdout",
     "output_type": "stream",
     "text": [
      "(80,)\n",
      "(2700,)\n",
      "(1, 75, 2700)\n"
     ]
    },
    {
     "data": {
      "text/plain": [
       "Text(0.5,1,'AMOC')"
      ]
     },
     "execution_count": 10,
     "metadata": {},
     "output_type": "execute_result"
    },
    {
     "data": {
      "image/png": "[encoded data removed]",
      "text/plain": [
       "<Figure size 432x288 with 4 Axes>"
      ]
     },
     "metadata": {
      "needs_background": "light"
     },
     "output_type": "display_data"
    }
   ],
   "source": [
    "nc = Dataset('/g/data1/v45/pas561/access-om2_amoc/amoc_transport_01.ncra.nc', mode='r') # file handle, open in read only mode\n",
    "st_ocean = nc.variables['st_ocean'][:]\n",
    "potrho = nc.variables['potrho'][:]\n",
    "yu_ocean = nc.variables['yu_ocean'][:]\n",
    "amoc_z = nc.variables['amoc_adv_z'][:]\n",
    "amoc_r = nc.variables['amoc_adv_rho'][:]\n",
    "nc.close() # close the file\n",
    "print(potrho.shape)\n",
    "print(yu_ocean.shape)\n",
    "print(amoc_z.shape)\n",
    "\n",
    "clev = np.arange(-5,20,1)\n",
    "plt.subplot(221)\n",
    "plt.contourf(yu_ocean,potrho,amoc_r[0,:,:],cmap=plt.cm.PiYG,levels=clev,extend='both')\n",
    "cb=plt.colorbar(orientation='vertical',shrink = 0.7)\n",
    "cb.ax.set_xlabel('Sv')\n",
    "plt.gca().invert_yaxis()\n",
    "#plt.gca().yaxis.set_major_formatter(x_formatter)\n",
    "plt.ylim((1037.5,1034))\n",
    "plt.ylabel('Rho (kg/m3)')\n",
    "plt.xlabel('Latitude ($^\\circ$N)')\n",
    "plt.xlim([-30,70])\n",
    "plt.title('AMOC')\n",
    "\n",
    "plt.subplot(223)\n",
    "plt.contourf(yu_ocean,st_ocean,amoc_z[0,:,:],cmap=plt.cm.PiYG,levels=clev,extend='both')\n",
    "cb=plt.colorbar(orientation='vertical',shrink = 0.7)\n",
    "cb.ax.set_xlabel('Sv')\n",
    "plt.gca().invert_yaxis()\n",
    "#plt.gca().yaxis.set_major_formatter(x_formatter)\n",
    "#plt.ylim((1037.5,1034))\n",
    "plt.ylabel('Depth (m)')\n",
    "plt.xlabel('Latitude ($^\\circ$N)')\n",
    "plt.xlim([-30,70])\n",
    "plt.title('AMOC')\n",
    "\n"
   ]
  },
  {
   "cell_type": "code",
   "execution_count": 11,
   "metadata": {},
   "outputs": [
    {
     "name": "stdout",
     "output_type": "stream",
     "text": [
      "(75, 2700)\n",
      "(80,)\n",
      "(300,)\n",
      "(60, 50, 300)\n",
      "(50, 300)\n",
      "(75,) (2700,) (75, 2700)\n",
      "(50, 300)\n"
     ]
    },
    {
     "data": {
      "text/plain": [
       "Text(0.5,1,'AMOC 01 minus 1 deg')"
      ]
     },
     "execution_count": 11,
     "metadata": {},
     "output_type": "execute_result"
    },
    {
     "data": {
      "image/png": "[encoded data removed]",
      "text/plain": [
       "<Figure size 432x288 with 6 Axes>"
      ]
     },
     "metadata": {
      "needs_background": "light"
     },
     "output_type": "display_data"
    }
   ],
   "source": [
    "#interp AMOC onto common grid to make difference plot\n",
    "#between 1 deg and 01 deg\n",
    "amoc_z=amoc_z[0,:,:]\n",
    "print(amoc_z.shape)\n",
    "\n",
    "nc = Dataset('/g/data1/v45/pas561/access-om2_amoc/AMOC_1deg.nc', mode='r') # file handle, open in read only mode\n",
    "st_ocean_1 = nc.variables['st_ocean'][:]\n",
    "potrho_1 = nc.variables['potrho'][:]\n",
    "yu_ocean_1 = nc.variables['yu_ocean'][:]\n",
    "amoc_z_1 = nc.variables['amoc_adv_z'][:]\n",
    "nc.close() # close the file\n",
    "print(potrho_1.shape)\n",
    "print(yu_ocean_1.shape)\n",
    "print(amoc_z_1.shape)\n",
    "amoc_z_1=amoc_z_1.mean(axis=0)\n",
    "print(amoc_z_1.shape)\n",
    "\n",
    "plt.subplot(221)\n",
    "plt.contourf(yu_ocean,st_ocean,amoc_z[:,:],cmap=plt.cm.PiYG,levels=clev,extend='both')\n",
    "cb=plt.colorbar(orientation='vertical',shrink = 0.7)\n",
    "cb.ax.set_xlabel('Sv')\n",
    "plt.gca().invert_yaxis()\n",
    "#plt.gca().yaxis.set_major_formatter(x_formatter)\n",
    "#plt.ylim((1037.5,1034))\n",
    "plt.ylabel('Depth (m)')\n",
    "plt.xlabel('Latitude ($^\\circ$N)')\n",
    "plt.xlim([-30,70])\n",
    "plt.title('AMOC 01 deg')\n",
    "\n",
    "plt.subplot(223)\n",
    "plt.contourf(yu_ocean_1,st_ocean_1,amoc_z_1,cmap=plt.cm.PiYG,levels=clev,extend='both')\n",
    "cb=plt.colorbar(orientation='vertical',shrink = 0.7)\n",
    "cb.ax.set_xlabel('Sv')\n",
    "plt.gca().invert_yaxis()\n",
    "#plt.gca().yaxis.set_major_formatter(x_formatter)\n",
    "#plt.ylim((1037.5,1034))\n",
    "plt.ylabel('Depth (m)')\n",
    "plt.xlabel('Latitude ($^\\circ$N)')\n",
    "plt.xlim([-30,70])\n",
    "plt.title('AMOC 1 deg')\n",
    "\n",
    "########## for 1D lat/long coords, can change degree of kx for improved fit if needed:\n",
    "print(st_ocean.shape,yu_ocean.shape,amoc_z.shape)\n",
    "from scipy.interpolate import RectBivariateSpline\n",
    "f = RectBivariateSpline(st_ocean,yu_ocean,amoc_z,kx=1,ky=1)\n",
    "amoc01_interp = f(st_ocean_1,yu_ocean_1)\n",
    "print(amoc01_interp.shape)\n",
    "## I found I needed this to mask a bunch of NaNs after:\n",
    "#woa_zavg75_interp  = np.ma.masked_invalid(woa_zavg75_interp)\n",
    "#print woa_zavg75_interp.shape\n",
    "\n",
    "\n",
    "clev = np.arange(-10,10,1)\n",
    "plt.subplot(222)\n",
    "plt.contourf(yu_ocean_1,st_ocean_1,amoc01_interp-amoc_z_1,cmap=plt.cm.PiYG,levels=clev,extend='both')\n",
    "cb=plt.colorbar(orientation='vertical',shrink = 0.7)\n",
    "cb.ax.set_xlabel('Sv')\n",
    "plt.gca().invert_yaxis()\n",
    "#plt.gca().yaxis.set_major_formatter(x_formatter)\n",
    "#plt.ylim((1037.5,1034))\n",
    "plt.ylabel('Depth (m)')\n",
    "plt.xlabel('Latitude ($^\\circ$N)')\n",
    "plt.xlim([-30,70])\n",
    "plt.title('AMOC 01 minus 1 deg')"
   ]
  },
  {
   "cell_type": "code",
   "execution_count": 12,
   "metadata": {},
   "outputs": [],
   "source": [
    "#create and write netcdf file\n",
    "rootgrp = Dataset(\"amoc_transport_01minus1.1deg_grid.nc\", \"w\")\n",
    "\n",
    "#float amoc_gm_rho(time, potrho, grid_yu_ocean) ;\n",
    "t = rootgrp.createDimension(\"time\", None)\n",
    "#rho = rootgrp.createDimension(\"potrho\", 80)\n",
    "yu = rootgrp.createDimension(\"yu_ocean\", 300)\n",
    "st = rootgrp.createDimension(\"st_ocean\", 50)\n",
    "\n",
    "#times= rootgrp.createVariable(\"time\",\"f8\",(\"time\",))\n",
    "#potrhos= rootgrp.createVariable(\"potrho\",\"f8\",(\"potrho\",))\n",
    "yu_oceans= rootgrp.createVariable(\"yu_ocean\",\"f8\",(\"yu_ocean\",))\n",
    "st_oceans= rootgrp.createVariable(\"st_ocean\",\"f8\",(\"st_ocean\",))\n",
    "\n",
    "#temp = tempgrp.createVariable('Temperature', 'f4', ('time', 'lon', 'lat', 'z'))\n",
    "amoc_adv_z_diff= rootgrp.createVariable(\"amoc_adv_z 01 minus 1\",\"f8\",(\"st_ocean\",\"yu_ocean\",))\n",
    "#amoc_adv_rho= rootgrp.createVariable(\"amoc_adv_rho\",\"f8\",(\"time\",\"potrho\",\"yu_ocean\",))\n",
    "\n",
    "\n",
    "#potrhos[:]=potrho\n",
    "st_oceans[:]=st_ocean_1\n",
    "yu_oceans[:]=yu_ocean_1\n",
    "amoc_adv_z_diff[:]=amoc01_interp-amoc_z_1\n",
    "#amoc_adv_rho[:]=amoc_r\n",
    "\n",
    "\n",
    "rootgrp.close()\n"
   ]
  },
  {
   "cell_type": "code",
   "execution_count": null,
   "metadata": {},
   "outputs": [],
   "source": []
  }
 ],
 "metadata": {
  "kernelspec": {
   "display_name": "Python 3",
   "language": "python",
   "name": "python3"
  },
  "language_info": {
   "codemirror_mode": {
    "name": "ipython",
    "version": 3
   },
   "file_extension": ".py",
   "mimetype": "text/x-python",
   "name": "python",
   "nbconvert_exporter": "python",
   "pygments_lexer": "ipython3",
   "version": "3.6.7"
  }
 },
 "nbformat": 4,
 "nbformat_minor": 2
}
