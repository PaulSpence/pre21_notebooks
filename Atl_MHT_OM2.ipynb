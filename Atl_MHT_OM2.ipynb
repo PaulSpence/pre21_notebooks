{
 "cells": [
  {
   "cell_type": "markdown",
   "metadata": {},
   "source": [
    "Calculate and plot meridional heat transport\n",
    "Uses two methods because of diagnostics available:\n",
    "From surface heat flux assuming steady state\n",
    "From temp_yflux_adv diagnostic (so does not include submeso or gm/diffusion if they are on)"
   ]
  },
  {
   "cell_type": "code",
   "execution_count": 129,
   "metadata": {},
   "outputs": [
    {
     "name": "stdout",
     "output_type": "stream",
     "text": [
      "Available exptdata keys:  ['1deg', '025deg', '01deg']\n"
     ]
    }
   ],
   "source": [
    "%matplotlib inline\n",
    "\n",
    "import cosima_cookbook as cc\n",
    "import matplotlib.pyplot as plt\n",
    "import matplotlib\n",
    "import xarray as xr\n",
    "import numpy as np\n",
    "import pandas as pd\n",
    "import IPython.display\n",
    "import cmocean as c\n",
    "from dask.distributed import Client\n",
    "\n",
    "\n",
    "import sys, os\n",
    "sys.path.append(os.path.join(os.getcwd(), '..'))  # so we can import ../exptdata\n",
    "import exptdata\n",
    "\n",
    "print('Available exptdata keys: ', [k for k in exptdata.exptdict.keys()])"
   ]
  },
  {
   "cell_type": "code",
   "execution_count": null,
   "metadata": {},
   "outputs": [],
   "source": []
  },
  {
   "cell_type": "code",
   "execution_count": 86,
   "metadata": {},
   "outputs": [
    {
     "name": "stdout",
     "output_type": "stream",
     "text": [
      "/g/data1/v45/pas561/access-om2_amoc/om2_1_amoc_mask.nc\n",
      "(1, 300, 360)\n",
      "/g/data1/v45/pas561/access-om2_amoc/adv_temp_yflux_1degB1_iaf.057to059.ncra.nc\n",
      "(1, 300, 360)\n",
      "(1, 300, 360)\n",
      "(1, 300, 360)\n",
      "(1, 300, 360)\n",
      "<xarray.DataArray 'yu_ocean' (yu_ocean: 300)>\n",
      "array([-77.753168, -77.50571 , -77.256999, ...,  89.098469,  89.549241,\n",
      "        90.      ])\n",
      "Coordinates:\n",
      "  * yu_ocean  (yu_ocean) float64 -77.75 -77.51 -77.26 -77.01 ... 89.1 89.55 90.0\n",
      "Attributes:\n",
      "    long_name:       ucell latitude\n",
      "    units:           degrees_N\n",
      "    cartesian_axis:  Y\n",
      "[[ 0.00000000e+00 -4.78177886e+11 -8.50406474e+11 -1.23042411e+12\n",
      "  -1.58132024e+12 -2.00812764e+12 -2.19829685e+12 -2.77387700e+12\n",
      "  -3.41552634e+12 -4.08340555e+12 -4.64595819e+12 -5.81075154e+12\n",
      "  -6.86392502e+12 -8.09055761e+12 -9.91953106e+12 -1.21688996e+13\n",
      "  -1.48088732e+13 -1.78839796e+13 -2.11796372e+13 -2.42565492e+13\n",
      "  -2.90927600e+13 -3.42746779e+13 -3.98877010e+13 -4.57628682e+13\n",
      "  -5.16151637e+13 -5.84389776e+13 -6.74111391e+13 -7.73225059e+13\n",
      "  -8.72695412e+13 -9.68453805e+13 -1.06265099e+14 -1.16016839e+14\n",
      "  -1.32410612e+14 -1.52090429e+14 -1.74690161e+14 -1.98697770e+14\n",
      "  -2.19968226e+14 -2.41043480e+14 -2.62360242e+14 -2.85154623e+14\n",
      "  -3.04715984e+14 -3.21763011e+14 -3.36982228e+14 -3.52282881e+14\n",
      "  -3.67087030e+14 -3.84084396e+14 -4.04933073e+14 -4.30131781e+14\n",
      "  -4.56721386e+14 -4.80754480e+14 -4.93528518e+14 -4.96515131e+14\n",
      "  -4.91708861e+14 -4.83229555e+14 -4.72166055e+14 -4.62148380e+14\n",
      "  -4.50945930e+14 -4.35934013e+14 -4.16505796e+14 -3.90618686e+14\n",
      "  -3.56543791e+14 -3.19160966e+14 -2.83529984e+14 -2.59352942e+14\n",
      "  -2.58518024e+14 -2.84667245e+14 -3.34639558e+14 -3.92762747e+14\n",
      "  -4.44415231e+14 -4.84739337e+14 -5.10817640e+14 -5.24034060e+14\n",
      "  -5.30355681e+14 -5.33734713e+14 -5.40114283e+14 -5.54609496e+14\n",
      "  -5.74616158e+14 -5.98477923e+14 -6.22715497e+14 -6.45503117e+14\n",
      "  -6.65754224e+14 -6.77348354e+14 -6.88348704e+14 -6.95465532e+14\n",
      "  -7.03589933e+14 -7.10738839e+14 -7.16934329e+14 -7.22814609e+14\n",
      "  -7.26671557e+14 -7.31682643e+14 -7.34876085e+14 -7.37858470e+14\n",
      "  -7.42432073e+14 -7.46085211e+14 -7.49799217e+14 -7.53129360e+14\n",
      "  -7.56154561e+14 -7.59016955e+14 -7.60690382e+14 -7.61035993e+14\n",
      "  -7.60087811e+14 -7.57985828e+14 -7.54555491e+14 -7.50570768e+14\n",
      "  -7.45639810e+14 -7.39960320e+14 -7.33204940e+14 -7.26849261e+14\n",
      "  -7.19274751e+14 -7.11106729e+14 -7.01602571e+14 -6.90774690e+14\n",
      "  -6.79557913e+14 -6.68035321e+14 -6.54288339e+14 -6.40759661e+14\n",
      "  -6.24580587e+14 -6.03608060e+14 -5.84758120e+14 -5.64028594e+14\n",
      "  -5.40628002e+14 -5.14935172e+14 -4.86497489e+14 -4.55488597e+14\n",
      "  -4.21935540e+14 -3.85661991e+14 -3.46879544e+14 -3.05563569e+14\n",
      "  -2.61033818e+14 -2.13553760e+14 -1.64311876e+14 -1.12562939e+14\n",
      "  -5.70298340e+13  1.18752372e+12  6.31120698e+13  1.24321217e+14\n",
      "   1.98511744e+14  2.65863979e+14  3.24204667e+14  3.74861357e+14\n",
      "   4.21528794e+14  4.64187281e+14  5.03123039e+14  5.38461191e+14\n",
      "   5.71120323e+14  6.00507429e+14  6.27547268e+14  6.52393520e+14\n",
      "   6.74668361e+14  6.95175219e+14  7.12870485e+14  7.27676780e+14\n",
      "   7.40877765e+14  7.51341580e+14  7.60422483e+14  7.70120050e+14\n",
      "   7.78218680e+14  7.86330800e+14  7.95566187e+14  8.03558182e+14\n",
      "   8.12081142e+14  8.21408402e+14  8.33700867e+14  8.45323182e+14\n",
      "   8.55112956e+14  8.66577835e+14  8.77227139e+14  8.89119165e+14\n",
      "   9.00324265e+14  9.12866576e+14  9.26856023e+14  9.42188251e+14\n",
      "   9.57815288e+14  9.73631102e+14  9.89273373e+14  1.00359622e+15\n",
      "   1.01599565e+15  1.02646866e+15  1.03570727e+15  1.04387529e+15\n",
      "   1.05204754e+15  1.05707225e+15  1.05982606e+15  1.05930798e+15\n",
      "   1.05698487e+15  1.05131975e+15  1.04483616e+15  1.03526462e+15\n",
      "   1.03201085e+15  1.02760374e+15  1.02153375e+15  1.01268195e+15\n",
      "   1.00298962e+15  9.96519453e+14  9.86463995e+14  9.83063052e+14\n",
      "   9.72170008e+14  9.58868025e+14  9.38010187e+14  9.09208942e+14\n",
      "   8.82721342e+14  8.50175757e+14  8.10824529e+14  7.58190241e+14\n",
      "   6.92777218e+14  6.22219227e+14  5.47205274e+14  4.80242305e+14\n",
      "   4.23304897e+14  3.86179636e+14  3.68894338e+14  3.64811066e+14\n",
      "   3.66430470e+14  3.68512590e+14  3.71883032e+14  3.77528431e+14\n",
      "   3.78464062e+14  3.77810120e+14  3.74634495e+14  3.69503653e+14\n",
      "   3.62973659e+14  3.57623841e+14  3.50701562e+14  3.44109760e+14\n",
      "   3.35451139e+14  3.26289672e+14  3.15014477e+14  3.03808907e+14\n",
      "   2.93152154e+14  2.84582922e+14  2.76030988e+14  2.65555060e+14\n",
      "   2.55078275e+14  2.43645777e+14  2.31977291e+14  2.23203444e+14\n",
      "   2.14029612e+14  2.05558125e+14  2.00106888e+14  1.94407333e+14\n",
      "   1.88402062e+14  1.83278183e+14  1.78750516e+14  1.73942635e+14\n",
      "   1.68606927e+14  1.63760862e+14  1.57689087e+14  1.54339532e+14\n",
      "   1.50366402e+14  1.45568219e+14  1.39919196e+14  1.33791201e+14\n",
      "   1.27893011e+14  1.23690604e+14  1.20463791e+14  1.17669345e+14\n",
      "   1.14440654e+14  1.10740707e+14  1.07008271e+14  1.03118801e+14\n",
      "   9.90615668e+13  9.35283822e+13  8.81357404e+13  8.29581909e+13\n",
      "   7.78658529e+13  7.22796942e+13  6.67315947e+13  6.16148542e+13\n",
      "   5.65184435e+13  5.15179859e+13  4.68701225e+13  4.18423515e+13\n",
      "   3.74713038e+13  3.35888840e+13  3.00024437e+13  2.66311125e+13\n",
      "   2.37243717e+13  2.11880300e+13  1.92114747e+13  1.74488300e+13\n",
      "   1.58523583e+13  1.44270311e+13  1.31442818e+13  1.19287788e+13\n",
      "   1.08618748e+13  9.81491778e+12  8.78954152e+12  8.02530787e+12\n",
      "   7.32583638e+12  6.60480301e+12  6.02109536e+12  5.35450826e+12\n",
      "   4.78053558e+12  4.08638194e+12  3.40577223e+12  2.63871975e+12\n",
      "   1.87803160e+12  1.09755236e+12  4.71293886e+11 -2.06894080e+09]]\n"
     ]
    }
   ],
   "source": [
    "#old school MHYT method works fine. Cookbook is broken.\n",
    "\n",
    "#read 1 deg ATl. mask\n",
    "NYFCntrlDir = '/g/data1/v45/pas561/access-om2_amoc/'\n",
    "Ocean_File = os.path.join(NYFCntrlDir,'om2_1_amoc_mask.nc')\n",
    "print(Ocean_File)\n",
    "cntrl=xr.open_mfdataset(Ocean_File,engine='netcdf4',concat_dim='time',decode_times=False)\n",
    "print(cntrl.kmu.shape)\n",
    "mask=cntrl.kmu[0].load()\n",
    "mask=np.nan_to_num(mask)\n",
    "\n",
    "#print(mask.shape) \n",
    "#latv = np.zeros((300,1),)\n",
    "#latv[:,0]=np.nan_to_num(cntrl.yu_ocean.load())\n",
    "#print(latv.shape)  \n",
    "\n",
    "Ocean_File = os.path.join(NYFCntrlDir,'adv_temp_yflux_1degB1_iaf.057to059.ncra.nc')\n",
    "print(Ocean_File)\n",
    "cntrl=xr.open_mfdataset(Ocean_File,engine='netcdf4',concat_dim='time',decode_times=False)\n",
    "#pert=xr.open_mfdataset(Ocean_File, concat_dim='time', decode_times=False, preprocess=lambda d: d['ty_trans'].to_dataset())\n",
    "\n",
    "print(cntrl.temp_yflux_adv_int_z.shape)\n",
    "print(cntrl.temp_yflux_submeso_int_z.shape)\n",
    "print(cntrl.temp_yflux_gm_int_z.shape)\n",
    "print(cntrl.temp_yflux_ndiffuse_int_z.shape)\n",
    "\n",
    "latv1=cntrl.yu_ocean.load()\n",
    "print(latv1)\n",
    "\n",
    "y1=cntrl.temp_yflux_adv_int_z*mask\n",
    "y2=cntrl.temp_yflux_submeso_int_z*mask\n",
    "y3=cntrl.temp_yflux_gm_int_z*mask\n",
    "y4=cntrl.temp_yflux_ndiffuse_int_z*mask\n",
    "\n",
    "MHF1 = cntrl.temp_yflux_adv_int_z.sum('xt_ocean').load()+cntrl.temp_yflux_submeso_int_z.sum('xt_ocean').load() + cntrl.temp_yflux_gm_int_z.sum('xt_ocean').load()+cntrl.temp_yflux_ndiffuse_int_z.sum('xt_ocean').load()\n",
    "atlMHF1 = y1.sum('xt_ocean').load()+y2.sum('xt_ocean').load()+y3.sum('xt_ocean').load()+y4.sum('xt_ocean').load()\n",
    "print(MHF1.values)\n",
    "\n",
    "\n",
    "\n"
   ]
  },
  {
   "cell_type": "code",
   "execution_count": 87,
   "metadata": {},
   "outputs": [
    {
     "name": "stdout",
     "output_type": "stream",
     "text": [
      "/g/data1/v45/pas561/access-om2_amoc/om2_025_amoc_mask.nc\n",
      "(1, 1080, 1440)\n",
      "/g/data1/v45/pas561/access-om2_amoc/adv_temp_yflux_025gmredi6_iaf.140to153.ncra.nc\n",
      "(1, 1080, 1440)\n",
      "(1, 1080, 1440)\n",
      "(1, 1080, 1440)\n",
      "(1, 1080, 1440)\n",
      "<xarray.DataArray 'yu_ocean' (yu_ocean: 1080)>\n",
      "array([-81.024202, -80.918603, -80.813004, ...,  89.788884,  89.894483,\n",
      "        90.      ])\n",
      "Coordinates:\n",
      "  * yu_ocean  (yu_ocean) float64 -81.02 -80.92 -80.81 ... 89.79 89.89 90.0\n",
      "Attributes:\n",
      "    long_name:       ucell latitude\n",
      "    units:           degrees_N\n",
      "    cartesian_axis:  Y\n",
      "[[ 0.0000000e+00  0.0000000e+00  0.0000000e+00 ...  1.9941404e+11\n",
      "   9.1132961e+10 -1.2826406e+09]]\n"
     ]
    }
   ],
   "source": [
    "\n",
    "#read 1 deg ATl. mask\n",
    "NYFCntrlDir = '/g/data1/v45/pas561/access-om2_amoc/'\n",
    "Ocean_File = os.path.join(NYFCntrlDir,'om2_025_amoc_mask.nc')\n",
    "print(Ocean_File)\n",
    "cntrl=xr.open_mfdataset(Ocean_File,engine='netcdf4',concat_dim='time',decode_times=False)\n",
    "print(cntrl.kmu.shape)\n",
    "mask=cntrl.kmu[0].load()\n",
    "mask=np.nan_to_num(mask)\n",
    "\n",
    "#print(mask.shape) \n",
    "#latv = np.zeros((300,1),)\n",
    "#latv[:,0]=np.nan_to_num(cntrl.yu_ocean.load())\n",
    "#print(latv.shape)  \n",
    "\n",
    "Ocean_File = os.path.join(NYFCntrlDir,'adv_temp_yflux_025gmredi6_iaf.140to153.ncra.nc')\n",
    "print(Ocean_File)\n",
    "cntrl=xr.open_mfdataset(Ocean_File,engine='netcdf4',concat_dim='time',decode_times=False)\n",
    "#pert=xr.open_mfdataset(Ocean_File, concat_dim='time', decode_times=False, preprocess=lambda d: d['ty_trans'].to_dataset())\n",
    "\n",
    "print(cntrl.temp_yflux_adv_int_z.shape)\n",
    "print(cntrl.temp_yflux_submeso_int_z.shape)\n",
    "print(cntrl.temp_yflux_gm_int_z.shape)\n",
    "print(cntrl.temp_yflux_ndiffuse_int_z.shape)\n",
    "\n",
    "latv025=cntrl.yu_ocean.load()\n",
    "print(latv025)\n",
    "\n",
    "y1=cntrl.temp_yflux_adv_int_z*mask\n",
    "y2=cntrl.temp_yflux_submeso_int_z*mask\n",
    "y3=cntrl.temp_yflux_gm_int_z*mask\n",
    "y4=cntrl.temp_yflux_ndiffuse_int_z*mask\n",
    "\n",
    "MHF025 = cntrl.temp_yflux_adv_int_z.sum('xt_ocean').load()+cntrl.temp_yflux_submeso_int_z.sum('xt_ocean').load() + cntrl.temp_yflux_gm_int_z.sum('xt_ocean').load()+cntrl.temp_yflux_ndiffuse_int_z.sum('xt_ocean').load()\n",
    "atlMHF025 = y1.sum('xt_ocean').load()+y2.sum('xt_ocean').load()+y3.sum('xt_ocean').load()+y4.sum('xt_ocean').load()\n",
    "print(MHF025.values)\n",
    "\n",
    "\n",
    "\n"
   ]
  },
  {
   "cell_type": "code",
   "execution_count": 88,
   "metadata": {},
   "outputs": [
    {
     "name": "stdout",
     "output_type": "stream",
     "text": [
      "/g/data1/v45/pas561/access-om2_amoc/om2_01_amoc_mask_newdims.nc\n",
      "(1, 2700, 3600)\n",
      "/g/data1/v45/pas561/access-om2_amoc/adv_temp_yflux_01iaf85.150to197.2010-2018.ncra.nc\n",
      "(1, 2700, 3600)\n",
      "(1, 2700, 3600)\n",
      "<xarray.DataArray 'yu_ocean' (yu_ocean: 2700)>\n",
      "array([-81.087512, -81.045273, -81.003033, ...,  89.915537,  89.957776,\n",
      "        90.      ])\n",
      "Coordinates:\n",
      "  * yu_ocean  (yu_ocean) float64 -81.09 -81.05 -81.0 -80.96 ... 89.92 89.96 90.0\n",
      "Attributes:\n",
      "    long_name:       ucell latitude\n",
      "    units:           degrees_N\n",
      "    cartesian_axis:  Y\n",
      "[[ 0.0000000e+00  0.0000000e+00  0.0000000e+00 ...  1.5292636e+11\n",
      "   7.3545671e+10 -8.7021152e+08]]\n"
     ]
    }
   ],
   "source": [
    "#read 1 deg ATl. mask\n",
    "NYFCntrlDir = '/g/data1/v45/pas561/access-om2_amoc/'\n",
    "Ocean_File = os.path.join(NYFCntrlDir,'om2_01_amoc_mask_newdims.nc')\n",
    "print(Ocean_File)\n",
    "cntrl=xr.open_mfdataset(Ocean_File,engine='netcdf4',concat_dim='time',decode_times=False)\n",
    "print(cntrl.kmu.shape)\n",
    "mask=cntrl.kmu[0].load()\n",
    "mask=np.nan_to_num(mask)\n",
    "\n",
    "#print(mask.shape) \n",
    "#latv = np.zeros((300,1),)\n",
    "#latv[:,0]=np.nan_to_num(cntrl.yu_ocean.load())\n",
    "#print(latv.shape)  \n",
    "\n",
    "Ocean_File = os.path.join(NYFCntrlDir,'adv_temp_yflux_01iaf85.150to197.2010-2018.ncra.nc')\n",
    "print(Ocean_File)\n",
    "cntrl=xr.open_mfdataset(Ocean_File,engine='netcdf4',concat_dim='time',decode_times=False)\n",
    "#pert=xr.open_mfdataset(Ocean_File, concat_dim='time', decode_times=False, preprocess=lambda d: d['ty_trans'].to_dataset())\n",
    "\n",
    "print(cntrl.temp_yflux_adv_int_z.shape)\n",
    "print(cntrl.temp_yflux_submeso_int_z.shape)\n",
    "\n",
    "latv01=cntrl.yu_ocean.load()\n",
    "print(latv01)\n",
    "\n",
    "y1=cntrl.temp_yflux_adv_int_z*mask\n",
    "y2=cntrl.temp_yflux_submeso_int_z*mask\n",
    "\n",
    "MHF01 = cntrl.temp_yflux_adv_int_z.sum('xt_ocean').load()+cntrl.temp_yflux_submeso_int_z.sum('xt_ocean').load() \n",
    "atlMHF01 = y1.sum('xt_ocean').load()+y2.sum('xt_ocean').load()\n",
    "print(MHF01.values)\n"
   ]
  },
  {
   "cell_type": "code",
   "execution_count": null,
   "metadata": {},
   "outputs": [],
   "source": []
  },
  {
   "cell_type": "code",
   "execution_count": 93,
   "metadata": {},
   "outputs": [
    {
     "data": {
      "image/png": "[encoded data removed]",
      "text/plain": [
       "<Figure size 576x432 with 2 Axes>"
      ]
     },
     "metadata": {
      "needs_background": "light"
     },
     "output_type": "display_data"
    }
   ],
   "source": [
    "# plot both surface heat flux, temp_yflux_adv methods and observations:\n",
    "fig = plt.figure(figsize=(8,6))\n",
    "plt.subplot(121)\n",
    "plt.plot(latv1.values[:],MHF1.values[0,:]/1.e15,linewidth=2,label='1 deg')\n",
    "plt.plot(latv025.values[:],MHF025.values[0,:]/1.e15,linewidth=2,label='025 deg')\n",
    "plt.plot(latv01.values[:],MHF01.values[0,:]/1.e15,linewidth=2,label='01 deg')\n",
    "plt.xlabel('Latitude $(^\\circ N)$')\n",
    "plt.ylabel('Global Meridional Heat Flux (PW)')\n",
    "\n",
    "#plt.plot(MHF/1.e15,linewidth=2)\n",
    "#plt.plot(obs_lat,obs_ncep,'xk',label='NCEP', markersize=6)\n",
    "#plt.plot(obs_lat,obs_ecmwf,'ok',label='ECMWF', markersize=3)\n",
    "#plt.errorbar(obsGW2003_lat,obsGW2003_mht,yerr=obsGW2003_mhte,fmt='dk',capsize=5,label='GW2003')\n",
    "#plt.plot([-90, 90],[0,0],'k-',linewidth=0.75)\n",
    "plt.legend(loc=2)\n",
    "plt.xlim([-90.,90.])\n",
    "plt.ylim([-2, 2.5])\n",
    "\n",
    "plt.subplot(122)\n",
    "plt.plot(latv1.values[:],atlMHF1.values[0,:]/1.e15,linewidth=2,label='1 deg')\n",
    "plt.plot(latv025.values[:],atlMHF025.values[0,:]/1.e15,linewidth=2,label='025 deg')\n",
    "plt.plot(latv01.values[:],atlMHF01.values[0,:]/1.e15,linewidth=2,label='01 deg')\n",
    "plt.xlabel('Latitude $(^\\circ N)$')\n",
    "plt.ylabel('Atlantic Meridional Heat Flux (PW)')\n",
    "\n",
    "#plt.plot(MHF/1.e15,linewidth=2)\n",
    "#plt.plot(obs_lat,obs_ncep,'xk',label='NCEP', markersize=6)\n",
    "#plt.plot(obs_lat,obs_ecmwf,'ok',label='ECMWF', markersize=3)\n",
    "#plt.errorbar(obsGW2003_lat,obsGW2003_mht,yerr=obsGW2003_mhte,fmt='dk',capsize=5,label='GW2003')\n",
    "#plt.plot([-90, 90],[0,0],'k-',linewidth=0.75)\n",
    "plt.legend(loc=2)\n",
    "plt.xlim([-40.,90.])\n",
    "plt.ylim([-2, 2.5])\n",
    "plt.tight_layout()"
   ]
  },
  {
   "cell_type": "code",
   "execution_count": 131,
   "metadata": {},
   "outputs": [],
   "source": [
    "np.savetxt('/g/data1/v45/pas561/access-om2_amoc/ACCESS-0M2-1_AtlMHT.txt', (atlMHF1.values[0,:],latv1.values[:]),delimiter=' ',newline='\\n')#,fmt='%1.4e, %5f',delimiter=' ')   # use exponential notation\n",
    "np.savetxt('/g/data1/v45/pas561/access-om2_amoc/ACCESS-0M2-025_AtlMHT.txt', (atlMHF025.values[0,:],latv025.values[:]),delimiter=' ',newline='\\n')#,fmt='%1.4e, %5f',delimiter=' ')   # use exponential notation\n",
    "np.savetxt('/g/data1/v45/pas561/access-om2_amoc/ACCESS-0M2-01_AtlMHT.txt', (atlMHF01.values[0,:],latv01.values[:]),delimiter=' ',newline='\\n')#,fmt='%1.4e, %5f',delimiter=' ')   # use exponential notation"
   ]
  },
  {
   "cell_type": "code",
   "execution_count": 134,
   "metadata": {},
   "outputs": [
    {
     "name": "stdout",
     "output_type": "stream",
     "text": [
      "(2, 300) (2, 1080) (2, 2700)\n"
     ]
    },
    {
     "data": {
      "text/plain": [
       "(-2, 2.5)"
      ]
     },
     "execution_count": 134,
     "metadata": {},
     "output_type": "execute_result"
    },
    {
     "data": {
      "image/png": "[encoded data removed]",
      "text/plain": [
       "<Figure size 576x432 with 1 Axes>"
      ]
     },
     "metadata": {
      "needs_background": "light"
     },
     "output_type": "display_data"
    }
   ],
   "source": [
    "tst1=np.loadtxt('/g/data1/v45/pas561/access-om2_amoc/ACCESS-0M2-1_AtlMHT.txt')\n",
    "tst2=np.loadtxt('/g/data1/v45/pas561/access-om2_amoc/ACCESS-0M2-025_AtlMHT.txt')\n",
    "tst3=np.loadtxt('/g/data1/v45/pas561/access-om2_amoc/ACCESS-0M2-01_AtlMHT.txt')\n",
    "print(tst1.shape,tst2.shape,tst3.shape)\n",
    "\n",
    "fig = plt.figure(figsize=(8,6))\n",
    "plt.subplot(121)\n",
    "plt.plot(tst1[1,:],tst1[0,:]/1.e15,linewidth=2,label='1 deg')\n",
    "plt.plot(tst2[1,:],tst2[0,:]/1.e15,linewidth=2,label='025 deg')\n",
    "plt.plot(tst3[1,:],tst3[0,:]/1.e15,linewidth=2,label='01 deg')\n",
    "plt.xlabel('Latitude $(^\\circ N)$')\n",
    "plt.ylabel('Global Meridional Heat Flux (PW)')\n",
    "\n",
    "#plt.plot(MHF/1.e15,linewidth=2)\n",
    "#plt.plot(obs_lat,obs_ncep,'xk',label='NCEP', markersize=6)\n",
    "#plt.plot(obs_lat,obs_ecmwf,'ok',label='ECMWF', markersize=3)\n",
    "#plt.errorbar(obsGW2003_lat,obsGW2003_mht,yerr=obsGW2003_mhte,fmt='dk',capsize=5,label='GW2003')\n",
    "#plt.plot([-90, 90],[0,0],'k-',linewidth=0.75)\n",
    "plt.legend(loc=2)\n",
    "plt.xlim([-90.,90.])\n",
    "plt.ylim([-2, 2.5])"
   ]
  },
  {
   "cell_type": "code",
   "execution_count": null,
   "metadata": {},
   "outputs": [],
   "source": []
  },
  {
   "cell_type": "code",
   "execution_count": null,
   "metadata": {},
   "outputs": [],
   "source": []
  },
  {
   "cell_type": "code",
   "execution_count": 2,
   "metadata": {},
   "outputs": [],
   "source": [
    "# Set 1-degree data to be different for MHT diagnostics:\n",
    "exptdata.exptdict['1deg']['exptdir'] = '/g/data3/hh5/tmp/cosima/access-om2/1deg_jra55v13_iaf_spinup1_B1_lastcycle'\n",
    "exptdata.exptdict['1deg']['expt'] = '1deg_jra55v13_iaf_spinup1_B1_lastcycle'\n",
    "\n",
    "tstart = exptdata.clim_tstart\n",
    "tend = exptdata.clim_tend"
   ]
  },
  {
   "cell_type": "code",
   "execution_count": 3,
   "metadata": {},
   "outputs": [],
   "source": [
    "figdir = '/g/data1/v45/pas561/access-om2_amoc/'\n",
    "def savefigure(fname):\n",
    "    plt.savefig(os.path.join(figdir, fname+'.png'),dpi=300, bbox_inches=\"tight\")  # comment out to disable saving\n",
    "    plt.savefig(os.path.join(figdir, fname+'.pdf'),dpi=300, bbox_inches=\"tight\")  # comment out to disable saving\n",
    "    return"
   ]
  },
  {
   "cell_type": "code",
   "execution_count": 4,
   "metadata": {},
   "outputs": [],
   "source": [
    "## This is the method we use to get around memory issues. To implement, use:\n",
    "## dask-scheduler # get the tcp code from this call in a jupyter new terminal, then run command below in a another terminal\n",
    "## dask-worker tcp://10.0.64.4:8786 --memory-limit 4e9 --nprocs 6 --nthreads 1 --local-directory /local/g40/amh157\n",
    "\n",
    "## dask-worker tcp://10.0.64.19:8786 --memory-limit 4e9 --nprocs 6 --nthreads 1 --local-directory /local/e14/pas561\n",
    "\n",
    "\n",
    "#cc.start_cluster()\n",
    "\n",
    "#client=Client('tcp://10.0.64.19:8786', local_dir='/local/e14/pas561')\n",
    "#client"
   ]
  },
  {
   "cell_type": "code",
   "execution_count": 42,
   "metadata": {},
   "outputs": [
    {
     "ename": "AttributeError",
     "evalue": "module 'cosima_cookbook' has no attribute 'get_ncfiles'",
     "output_type": "error",
     "traceback": [
      "\u001b[0;31m---------------------------------------------------------------------------\u001b[0m",
      "\u001b[0;31mAttributeError\u001b[0m                            Traceback (most recent call last)",
      "\u001b[0;32m<ipython-input-42-ea22f6a0d29a>\u001b[0m in \u001b[0;36m<module>\u001b[0;34m\u001b[0m\n\u001b[0;32m----> 1\u001b[0;31m \u001b[0mcc\u001b[0m\u001b[0;34m.\u001b[0m\u001b[0mget_ncfiles\u001b[0m\u001b[0;34m(\u001b[0m\u001b[0mexptdata\u001b[0m\u001b[0;34m.\u001b[0m\u001b[0mexptdict\u001b[0m\u001b[0;34m[\u001b[0m\u001b[0;34m'1deg'\u001b[0m\u001b[0;34m]\u001b[0m\u001b[0;34m[\u001b[0m\u001b[0;34m'expt'\u001b[0m\u001b[0;34m]\u001b[0m\u001b[0;34m)\u001b[0m\u001b[0;34m\u001b[0m\u001b[0;34m\u001b[0m\u001b[0m\n\u001b[0m",
      "\u001b[0;31mAttributeError\u001b[0m: module 'cosima_cookbook' has no attribute 'get_ncfiles'"
     ]
    }
   ],
   "source": [
    "cc.get_ncfiles(exptdata.exptdict['1deg']['expt'])"
   ]
  },
  {
   "cell_type": "code",
   "execution_count": 130,
   "metadata": {},
   "outputs": [
    {
     "ename": "AttributeError",
     "evalue": "module 'cosima_cookbook' has no attribute 'get_variables'",
     "output_type": "error",
     "traceback": [
      "\u001b[0;31m---------------------------------------------------------------------------\u001b[0m",
      "\u001b[0;31mAttributeError\u001b[0m                            Traceback (most recent call last)",
      "\u001b[0;32m<ipython-input-130-571fdebf508c>\u001b[0m in \u001b[0;36m<module>\u001b[0;34m\u001b[0m\n\u001b[0;32m----> 1\u001b[0;31m \u001b[0mcc\u001b[0m\u001b[0;34m.\u001b[0m\u001b[0mget_variables\u001b[0m\u001b[0;34m(\u001b[0m\u001b[0mexptdata\u001b[0m\u001b[0;34m.\u001b[0m\u001b[0mexptdict\u001b[0m\u001b[0;34m[\u001b[0m\u001b[0;34m'1deg'\u001b[0m\u001b[0;34m]\u001b[0m\u001b[0;34m[\u001b[0m\u001b[0;34m'expt'\u001b[0m\u001b[0;34m]\u001b[0m\u001b[0;34m,\u001b[0m\u001b[0;34m'ocean_month.nc'\u001b[0m\u001b[0;34m)\u001b[0m\u001b[0;34m\u001b[0m\u001b[0;34m\u001b[0m\u001b[0m\n\u001b[0m",
      "\u001b[0;31mAttributeError\u001b[0m: module 'cosima_cookbook' has no attribute 'get_variables'"
     ]
    }
   ],
   "source": [
    "cc.get_variables(exptdata.exptdict['1deg']['expt'],'ocean_month.nc')"
   ]
  },
  {
   "cell_type": "code",
   "execution_count": 44,
   "metadata": {},
   "outputs": [
    {
     "ename": "AttributeError",
     "evalue": "module 'cosima_cookbook' has no attribute 'get_variables'",
     "output_type": "error",
     "traceback": [
      "\u001b[0;31m---------------------------------------------------------------------------\u001b[0m",
      "\u001b[0;31mAttributeError\u001b[0m                            Traceback (most recent call last)",
      "\u001b[0;32m<ipython-input-44-8e9e847c3ee8>\u001b[0m in \u001b[0;36m<module>\u001b[0;34m\u001b[0m\n\u001b[0;32m----> 1\u001b[0;31m \u001b[0mcc\u001b[0m\u001b[0;34m.\u001b[0m\u001b[0mget_variables\u001b[0m\u001b[0;34m(\u001b[0m\u001b[0mexptdata\u001b[0m\u001b[0;34m.\u001b[0m\u001b[0mexptdict\u001b[0m\u001b[0;34m[\u001b[0m\u001b[0;34m'1deg'\u001b[0m\u001b[0;34m]\u001b[0m\u001b[0;34m[\u001b[0m\u001b[0;34m'expt'\u001b[0m\u001b[0;34m]\u001b[0m\u001b[0;34m,\u001b[0m\u001b[0;34m'ocean.nc'\u001b[0m\u001b[0;34m)\u001b[0m\u001b[0;34m\u001b[0m\u001b[0;34m\u001b[0m\u001b[0m\n\u001b[0m",
      "\u001b[0;31mAttributeError\u001b[0m: module 'cosima_cookbook' has no attribute 'get_variables'"
     ]
    }
   ],
   "source": [
    "cc.get_variables(exptdata.exptdict['1deg']['expt'],'ocean.nc')"
   ]
  },
  {
   "cell_type": "code",
   "execution_count": null,
   "metadata": {},
   "outputs": [],
   "source": []
  },
  {
   "cell_type": "code",
   "execution_count": 16,
   "metadata": {},
   "outputs": [],
   "source": [
    "# use int_z MHT diagnostics:\n",
    "def find_MHF_intz(ekey):\n",
    "    expt = exptdata.exptdict[ekey]['expt']\n",
    "    n_files = exptdata.exptdict[ekey]['n_files']\n",
    "    # n_files = 1\n",
    "    time_units = exptdata.exptdict[ekey]['time_units']\n",
    "    offset = exptdata.exptdict[ekey]['offset']\n",
    "\n",
    "    temp_yflux_adv = cc.get_nc_variable(expt, 'ocean_month.nc', 'temp_yflux_adv_int_z',\n",
    "                                        n=n_files, time_units = time_units, offset=offset, use_cache=False)\n",
    "    temp_yflux_submeso = cc.get_nc_variable(expt, 'ocean_month.nc', 'temp_yflux_submeso_int_z',\n",
    "                                            n=n_files, time_units = time_units, offset=offset)\n",
    "    MHF = (temp_yflux_adv.sel(time=slice(tstart,tend)).mean('time').sum('xt_ocean')+temp_yflux_submeso.sel(time=slice(tstart,tend)).mean('time').sum('xt_ocean')).load()\n",
    "    if (ekey != '01deg'):\n",
    "        temp_yflux_gm = cc.get_nc_variable(expt, 'ocean_month.nc', 'temp_yflux_gm_int_z',\n",
    "                                           n=n_files, time_units = time_units, offset=offset)\n",
    "        temp_yflux_ndiffuse = cc.get_nc_variable(expt, 'ocean_month.nc', 'temp_yflux_ndiffuse_int_z',\n",
    "                                           n=n_files, time_units = time_units, offset=offset)\n",
    "        MHF = MHF + (temp_yflux_gm.sel(time=slice(tstart,tend)).mean('time').sum('xt_ocean')+temp_yflux_ndiffuse.sel(time=slice(tstart,tend)).mean('time').sum('xt_ocean')).load()\n",
    "\n",
    "    latv = cc.get_nc_variable(expt, 'ocean_grid.nc','yu_ocean',n=1).load()\n",
    "    return latv, MHF\n"
   ]
  },
  {
   "cell_type": "code",
   "execution_count": 17,
   "metadata": {},
   "outputs": [
    {
     "ename": "AttributeError",
     "evalue": "module 'cosima_cookbook' has no attribute 'get_nc_variable'",
     "output_type": "error",
     "traceback": [
      "\u001b[0;31m---------------------------------------------------------------------------\u001b[0m",
      "\u001b[0;31mAttributeError\u001b[0m                            Traceback (most recent call last)",
      "\u001b[0;32m<ipython-input-17-83f23a291476>\u001b[0m in \u001b[0;36m<module>\u001b[0;34m\u001b[0m\n\u001b[1;32m      4\u001b[0m \u001b[0mplt\u001b[0m\u001b[0;34m.\u001b[0m\u001b[0mylabel\u001b[0m\u001b[0;34m(\u001b[0m\u001b[0;34m'Meridional Heat Flux (PW)'\u001b[0m\u001b[0;34m)\u001b[0m\u001b[0;34m\u001b[0m\u001b[0;34m\u001b[0m\u001b[0m\n\u001b[1;32m      5\u001b[0m \u001b[0;32mfor\u001b[0m \u001b[0mi\u001b[0m\u001b[0;34m,\u001b[0m \u001b[0mekey\u001b[0m \u001b[0;32min\u001b[0m \u001b[0menumerate\u001b[0m\u001b[0;34m(\u001b[0m\u001b[0mexptdata\u001b[0m\u001b[0;34m.\u001b[0m\u001b[0mexptdict\u001b[0m\u001b[0;34m.\u001b[0m\u001b[0mkeys\u001b[0m\u001b[0;34m(\u001b[0m\u001b[0;34m)\u001b[0m\u001b[0;34m)\u001b[0m\u001b[0;34m:\u001b[0m\u001b[0;34m\u001b[0m\u001b[0;34m\u001b[0m\u001b[0m\n\u001b[0;32m----> 6\u001b[0;31m     \u001b[0mlatv\u001b[0m\u001b[0;34m,\u001b[0m \u001b[0mMHF\u001b[0m \u001b[0;34m=\u001b[0m \u001b[0mfind_MHF_intz\u001b[0m\u001b[0;34m(\u001b[0m\u001b[0mekey\u001b[0m\u001b[0;34m)\u001b[0m\u001b[0;34m\u001b[0m\u001b[0;34m\u001b[0m\u001b[0m\n\u001b[0m\u001b[1;32m      7\u001b[0m \u001b[0;34m\u001b[0m\u001b[0m\n\u001b[1;32m      8\u001b[0m     \u001b[0mhand\u001b[0m \u001b[0;34m=\u001b[0m \u001b[0mplt\u001b[0m\u001b[0;34m.\u001b[0m\u001b[0mplot\u001b[0m\u001b[0;34m(\u001b[0m\u001b[0mlatv\u001b[0m\u001b[0;34m,\u001b[0m\u001b[0mMHF\u001b[0m\u001b[0;34m/\u001b[0m\u001b[0;36m1.e15\u001b[0m\u001b[0;34m,\u001b[0m\u001b[0mlinewidth\u001b[0m\u001b[0;34m=\u001b[0m\u001b[0;36m2\u001b[0m\u001b[0;34m,\u001b[0m \u001b[0mlabel\u001b[0m\u001b[0;34m=\u001b[0m\u001b[0mexptdata\u001b[0m\u001b[0;34m.\u001b[0m\u001b[0mexptdict\u001b[0m\u001b[0;34m[\u001b[0m\u001b[0mekey\u001b[0m\u001b[0;34m]\u001b[0m\u001b[0;34m[\u001b[0m\u001b[0;34m'desc'\u001b[0m\u001b[0;34m]\u001b[0m\u001b[0;34m)\u001b[0m\u001b[0;34m\u001b[0m\u001b[0;34m\u001b[0m\u001b[0m\n",
      "\u001b[0;32m<ipython-input-16-f3c72b473866>\u001b[0m in \u001b[0;36mfind_MHF_intz\u001b[0;34m(ekey)\u001b[0m\n\u001b[1;32m      7\u001b[0m     \u001b[0moffset\u001b[0m \u001b[0;34m=\u001b[0m \u001b[0mexptdata\u001b[0m\u001b[0;34m.\u001b[0m\u001b[0mexptdict\u001b[0m\u001b[0;34m[\u001b[0m\u001b[0mekey\u001b[0m\u001b[0;34m]\u001b[0m\u001b[0;34m[\u001b[0m\u001b[0;34m'offset'\u001b[0m\u001b[0;34m]\u001b[0m\u001b[0;34m\u001b[0m\u001b[0;34m\u001b[0m\u001b[0m\n\u001b[1;32m      8\u001b[0m \u001b[0;34m\u001b[0m\u001b[0m\n\u001b[0;32m----> 9\u001b[0;31m     temp_yflux_adv = cc.get_nc_variable(expt, 'ocean_month.nc', 'temp_yflux_adv_int_z',\n\u001b[0m\u001b[1;32m     10\u001b[0m                                         n=n_files, time_units = time_units, offset=offset, use_cache=False)\n\u001b[1;32m     11\u001b[0m     temp_yflux_submeso = cc.get_nc_variable(expt, 'ocean_month.nc', 'temp_yflux_submeso_int_z',\n",
      "\u001b[0;31mAttributeError\u001b[0m: module 'cosima_cookbook' has no attribute 'get_nc_variable'"
     ]
    },
    {
     "data": {
      "image/png": "[encoded data removed]",
      "text/plain": [
       "<Figure size 576x432 with 1 Axes>"
      ]
     },
     "metadata": {
      "needs_background": "light"
     },
     "output_type": "display_data"
    }
   ],
   "source": [
    "# plot both surface heat flux, temp_yflux_adv methods and observations:\n",
    "fig = plt.figure(figsize=(8,6))\n",
    "plt.xlabel('Latitude $(^\\circ N)$')\n",
    "plt.ylabel('Meridional Heat Flux (PW)')\n",
    "for i, ekey in enumerate(exptdata.exptdict.keys()):\n",
    "    latv, MHF = find_MHF_intz(ekey)\n",
    "\n",
    "    hand = plt.plot(latv,MHF/1.e15,linewidth=2, label=exptdata.exptdict[ekey]['desc'])\n",
    "\n",
    "plt.plot(obs_lat,obs_ncep,'xk',label='NCEP', markersize=6)\n",
    "plt.plot(obs_lat,obs_ecmwf,'ok',label='ECMWF', markersize=3)\n",
    "plt.errorbar(obsGW2003_lat,obsGW2003_mht,yerr=obsGW2003_mhte,fmt='dk',capsize=5,label='GW2003')\n",
    "plt.plot([-90, 90],[0,0],'k-',linewidth=0.75)\n",
    "plt.legend(loc=2)\n",
    "plt.xlim([-90.,90.])\n",
    "plt.ylim([-2, 2.5])\n",
    "\n",
    "savefigure('meridional_heat_transport_intz_withobs')"
   ]
  },
  {
   "cell_type": "code",
   "execution_count": null,
   "metadata": {},
   "outputs": [],
   "source": []
  },
  {
   "cell_type": "code",
   "execution_count": null,
   "metadata": {},
   "outputs": [],
   "source": []
  },
  {
   "cell_type": "code",
   "execution_count": null,
   "metadata": {},
   "outputs": [],
   "source": []
  },
  {
   "cell_type": "code",
   "execution_count": null,
   "metadata": {},
   "outputs": [],
   "source": []
  },
  {
   "cell_type": "code",
   "execution_count": null,
   "metadata": {},
   "outputs": [],
   "source": []
  },
  {
   "cell_type": "code",
   "execution_count": null,
   "metadata": {},
   "outputs": [],
   "source": []
  },
  {
   "cell_type": "code",
   "execution_count": null,
   "metadata": {},
   "outputs": [],
   "source": []
  },
  {
   "cell_type": "code",
   "execution_count": 8,
   "metadata": {},
   "outputs": [],
   "source": [
    "# Infer from surface heat flux:\n",
    "def find_MHF(ekey):\n",
    "    \n",
    "    expt = exptdata.exptdict[ekey]['expt']\n",
    "    n_files = exptdata.exptdict[ekey]['n_files']\n",
    "    #n_files = 1\n",
    "    time_units = exptdata.exptdict[ekey]['time_units']\n",
    "    offset = exptdata.exptdict[ekey]['offset']\n",
    "\n",
    "    shflux = cc.get_nc_variable(expt, 'ocean_month.nc', 'net_sfc_heating',\n",
    "                          n=n_files, time_units = time_units, offset=offset, use_cache=True)\n",
    "    shflux_am = shflux.mean('time').load()\n",
    "    area = cc.get_nc_variable(expt, 'ocean_grid.nc','area_t',n=1).load()\n",
    "    lat = cc.get_nc_variable(expt, 'ocean_grid.nc','geolat_t',n=1).load()\n",
    "    latv = cc.get_nc_variable(expt, 'ocean_grid.nc','yt_ocean',n=1).load()\n",
    "    MHF = np.zeros_like(latv)\n",
    "    for i in range(len(latv)):\n",
    "        inds = lat < latv[i]\n",
    "        MHF[i] = np.sum(area.where(lat < latv[i])*shflux_am.where(lat < latv[i]))\n",
    "\n",
    "    MHF = MHF + (MHF[0]-MHF[-1])/2\n",
    "    \n",
    "    return latv, MHF"
   ]
  },
  {
   "cell_type": "code",
   "execution_count": 9,
   "metadata": {},
   "outputs": [
    {
     "name": "stdout",
     "output_type": "stream",
     "text": [
      "Reading from cache file cache_get_nc_variable_1deg_jra55v13_iaf_spinup1_B1_lastcycle_ocean_month.nc_net_sfc_heating_-12_days-since-1718-01-01_-87658_False.pkl\n"
     ]
    },
    {
     "name": "stderr",
     "output_type": "stream",
     "text": [
      "/g/data3/hh5/public/apps/miniconda3/envs/analysis3-19.01/lib/python3.6/site-packages/dask/array/numpy_compat.py:28: RuntimeWarning: invalid value encountered in true_divide\n",
      "  x = np.divide(x1, x2, out)\n"
     ]
    },
    {
     "name": "stdout",
     "output_type": "stream",
     "text": [
      "Using database sqlite:////g/data3/hh5/tmp/cosima/cosima-cookbook/cosima-cookbook.db\n"
     ]
    },
    {
     "name": "stderr",
     "output_type": "stream",
     "text": [
      "/g/data3/hh5/public/apps/miniconda3/envs/analysis3-19.01/lib/python3.6/site-packages/dask/compatibility.py:93: FutureWarning: The autoclose argument is no longer used by xarray.open_dataset() and is now ignored; it will be removed in a future version of xarray. If necessary, you can control the maximum number of simultaneous open files with xarray.set_options(file_cache_maxsize=...).\n",
      "  return func(*args, **kwargs)\n"
     ]
    },
    {
     "name": "stdout",
     "output_type": "stream",
     "text": [
      "Using database sqlite:////g/data3/hh5/tmp/cosima/cosima-cookbook/cosima-cookbook.db\n",
      "Using database sqlite:////g/data3/hh5/tmp/cosima/cosima-cookbook/cosima-cookbook.db\n",
      "Reading from cache file cache_get_nc_variable_025deg_jra55v13_iaf_gmredi6_ocean_month.nc_net_sfc_heating_-34_days-since-1718-01-01_-87658_False.pkl\n"
     ]
    },
    {
     "name": "stderr",
     "output_type": "stream",
     "text": [
      "/g/data3/hh5/public/apps/miniconda3/envs/analysis3-19.01/lib/python3.6/site-packages/dask/array/numpy_compat.py:28: RuntimeWarning: invalid value encountered in true_divide\n",
      "  x = np.divide(x1, x2, out)\n"
     ]
    },
    {
     "name": "stdout",
     "output_type": "stream",
     "text": [
      "Using database sqlite:////g/data3/hh5/tmp/cosima/cosima-cookbook/cosima-cookbook.db\n"
     ]
    },
    {
     "name": "stderr",
     "output_type": "stream",
     "text": [
      "/g/data3/hh5/public/apps/miniconda3/envs/analysis3-19.01/lib/python3.6/site-packages/dask/compatibility.py:93: FutureWarning: The autoclose argument is no longer used by xarray.open_dataset() and is now ignored; it will be removed in a future version of xarray. If necessary, you can control the maximum number of simultaneous open files with xarray.set_options(file_cache_maxsize=...).\n",
      "  return func(*args, **kwargs)\n"
     ]
    },
    {
     "name": "stdout",
     "output_type": "stream",
     "text": [
      "Using database sqlite:////g/data3/hh5/tmp/cosima/cosima-cookbook/cosima-cookbook.db\n",
      "Using database sqlite:////g/data3/hh5/tmp/cosima/cosima-cookbook/cosima-cookbook.db\n",
      "Reading from cache file cache_get_nc_variable_01deg_jra55v13_iaf_ocean_month.nc_net_sfc_heating_None_days-since-0001-01-01_None_False.pkl\n"
     ]
    },
    {
     "name": "stderr",
     "output_type": "stream",
     "text": [
      "/g/data3/hh5/public/apps/miniconda3/envs/analysis3-19.01/lib/python3.6/site-packages/dask/array/numpy_compat.py:28: RuntimeWarning: invalid value encountered in true_divide\n",
      "  x = np.divide(x1, x2, out)\n"
     ]
    },
    {
     "name": "stdout",
     "output_type": "stream",
     "text": [
      "Using database sqlite:////g/data3/hh5/tmp/cosima/cosima-cookbook/cosima-cookbook.db\n"
     ]
    },
    {
     "name": "stderr",
     "output_type": "stream",
     "text": [
      "/g/data3/hh5/public/apps/miniconda3/envs/analysis3-19.01/lib/python3.6/site-packages/dask/compatibility.py:93: FutureWarning: The autoclose argument is no longer used by xarray.open_dataset() and is now ignored; it will be removed in a future version of xarray. If necessary, you can control the maximum number of simultaneous open files with xarray.set_options(file_cache_maxsize=...).\n",
      "  return func(*args, **kwargs)\n"
     ]
    },
    {
     "name": "stdout",
     "output_type": "stream",
     "text": [
      "Using database sqlite:////g/data3/hh5/tmp/cosima/cosima-cookbook/cosima-cookbook.db\n",
      "Using database sqlite:////g/data3/hh5/tmp/cosima/cosima-cookbook/cosima-cookbook.db\n"
     ]
    },
    {
     "data": {
      "image/png": "[encoded data removed]",
      "text/plain": [
       "<Figure size 576x360 with 1 Axes>"
      ]
     },
     "metadata": {
      "needs_background": "light"
     },
     "output_type": "display_data"
    }
   ],
   "source": [
    "# Plot just surface heat flux inferred method:\n",
    "fig = plt.figure(figsize=(8,5))\n",
    "plt.xlabel('Latitude $(^\\circ N)$')\n",
    "plt.ylabel('Meridional Heat Flux (PW)')\n",
    "for i, ekey in enumerate(exptdata.exptdict.keys()):\n",
    "    latv, MHF = find_MHF(ekey)\n",
    "\n",
    "    plt.plot(latv,MHF/1.e15,linewidth=2, label=exptdata.exptdict[ekey]['desc'])\n",
    "\n",
    "plt.legend()\n",
    "savefigure('meridional_heat_transport')"
   ]
  },
  {
   "cell_type": "code",
   "execution_count": null,
   "metadata": {},
   "outputs": [],
   "source": []
  },
  {
   "cell_type": "code",
   "execution_count": null,
   "metadata": {},
   "outputs": [],
   "source": []
  },
  {
   "cell_type": "code",
   "execution_count": null,
   "metadata": {},
   "outputs": [],
   "source": []
  },
  {
   "cell_type": "code",
   "execution_count": 30,
   "metadata": {},
   "outputs": [],
   "source": [
    "# Infer from surface heat flux:\n",
    "def find_AtlMHF(ekey):\n",
    "    \n",
    "    #get masks\n",
    "    NYFCntrlDir = '/g/data1/v45/pas561/access-om2_amoc/'\n",
    "    if ekey == '1deg':\n",
    "        Ocean_File = os.path.join(NYFCntrlDir,'om2_1_amoc_mask.nc')\n",
    "        cntrl=xr.open_mfdataset(Ocean_File,engine='netcdf4',concat_dim='time',decode_times=False)\n",
    "        \n",
    "        n_files = exptdata.exptdict[ekey]['n_files']\n",
    "        print(n_files)\n",
    "        n_files = -1\n",
    "        #n_files = -12                          ## Last 12 files is last 60 years\n",
    "        \n",
    "    elif ekey == '025deg':\n",
    "        Ocean_File = os.path.join(NYFCntrlDir,'om2_025_amoc_mask.nc')\n",
    "        cntrl=xr.open_mfdataset(Ocean_File,engine='netcdf4',concat_dim='time',decode_times=False)\n",
    "        \n",
    "        n_files = exptdata.exptdict[ekey]['n_files']\n",
    "        print(n_files)\n",
    "        #n_files = -34                          ## Last 34 files is last 60 years\n",
    "        n_files = -1\n",
    "    \n",
    "    elif ekey == '01deg':\n",
    "        ekey='1deg'\n",
    "        Ocean_File = os.path.join(NYFCntrlDir,'om2_1_amoc_mask.nc')\n",
    "        cntrl=xr.open_mfdataset(Ocean_File,engine='netcdf4',concat_dim='time',decode_times=False)\n",
    "        \n",
    "        n_files = exptdata.exptdict[ekey]['n_files']\n",
    "        print(n_files)\n",
    "        n_files = -1\n",
    "        #Ocean_File = os.path.join(NYFCntrlDir,'om2_01_amoc_mask_newdims.nc')\n",
    "        #cntrl=xr.open_mfdataset(Ocean_File,engine='netcdf4',concat_dim='time',decode_times=False)\n",
    "        \n",
    "        #n_files = exptdata.exptdict[ekey]['n_files']\n",
    "        #print(n_files)\n",
    "        #n_files = -1\n",
    "        #n_files = None                          ## For Testing\n",
    "        \n",
    "    #ekey='1deg'\n",
    "    expt = exptdata.exptdict[ekey]['expt']\n",
    "    print(expt)\n",
    "    \n",
    "    time_units = exptdata.exptdict[ekey]['time_units']\n",
    "    offset = exptdata.exptdict[ekey]['offset']\n",
    "\n",
    "    shflux = cc.get_nc_variable(expt, 'ocean_month.nc', 'net_sfc_heating',\n",
    "                          n=n_files, time_units = time_units, offset=offset, use_cache=True)\n",
    "    print(shflux.shape)\n",
    "    shflux_am=shflux.resample(time='A').mean('time').load()\n",
    "    print(shflux_am.shape)\n",
    "    #shflux_am = shflux.mean('time').sel(time=slice(708,720)).load()\n",
    "            \n",
    "    mask=cntrl.kmu[0].load()\n",
    "    mask=np.nan_to_num(mask)\n",
    "    print(mask.shape,shflux_am.shape)\n",
    "    \n",
    "    shflux_am=shflux_am.mean('time')#*mask\n",
    "    print(shflux_am.shape)\n",
    "    \n",
    "    area = cc.get_nc_variable(expt, 'ocean_grid.nc','area_t',n=1).load()\n",
    "    lat = cc.get_nc_variable(expt, 'ocean_grid.nc','geolat_t',n=1).load()\n",
    "    latv = cc.get_nc_variable(expt, 'ocean_grid.nc','yt_ocean',n=1).load()\n",
    "    MHF = np.zeros_like(latv)\n",
    "    for i in range(len(latv)):\n",
    "        inds = lat < latv[i]\n",
    "        MHF[i] = np.sum(area.where(lat < latv[i])*shflux_am.where(lat < latv[i]))\n",
    "\n",
    "    MHF = MHF + (MHF[0]-MHF[-1])/2\n",
    "    \n",
    "    return latv, MHF"
   ]
  },
  {
   "cell_type": "code",
   "execution_count": null,
   "metadata": {},
   "outputs": [
    {
     "name": "stdout",
     "output_type": "stream",
     "text": [
      "1deg\n",
      "(300,) (300,)\n",
      "1deg_jra55v13_iaf_spinup1_B1_lastcycle\n",
      "-12\n",
      "Reading from cache file cache_get_nc_variable_1deg_jra55v13_iaf_spinup1_B1_lastcycle_ocean_month.nc_net_sfc_heating_-1_days-since-1718-01-01_-87658_False.pkl\n",
      "(60, 300, 360)\n"
     ]
    },
    {
     "name": "stderr",
     "output_type": "stream",
     "text": [
      "/g/data3/hh5/public/apps/miniconda3/envs/analysis3-19.01/lib/python3.6/site-packages/dask/array/numpy_compat.py:28: RuntimeWarning: invalid value encountered in true_divide\n",
      "  x = np.divide(x1, x2, out)\n"
     ]
    },
    {
     "name": "stdout",
     "output_type": "stream",
     "text": [
      "(5, 300, 360)\n",
      "(300, 360) (5, 300, 360)\n",
      "(300, 360)\n",
      "Using database sqlite:////g/data3/hh5/tmp/cosima/cosima-cookbook/cosima-cookbook.db\n"
     ]
    },
    {
     "name": "stderr",
     "output_type": "stream",
     "text": [
      "/g/data3/hh5/public/apps/miniconda3/envs/analysis3-19.01/lib/python3.6/site-packages/xarray/core/nanops.py:159: RuntimeWarning: Mean of empty slice\n",
      "  return np.nanmean(a, axis=axis, dtype=dtype)\n",
      "/g/data3/hh5/public/apps/miniconda3/envs/analysis3-19.01/lib/python3.6/site-packages/dask/compatibility.py:93: FutureWarning: The autoclose argument is no longer used by xarray.open_dataset() and is now ignored; it will be removed in a future version of xarray. If necessary, you can control the maximum number of simultaneous open files with xarray.set_options(file_cache_maxsize=...).\n",
      "  return func(*args, **kwargs)\n"
     ]
    },
    {
     "name": "stdout",
     "output_type": "stream",
     "text": [
      "Using database sqlite:////g/data3/hh5/tmp/cosima/cosima-cookbook/cosima-cookbook.db\n",
      "Using database sqlite:////g/data3/hh5/tmp/cosima/cosima-cookbook/cosima-cookbook.db\n",
      "025deg\n",
      "(300,) (300,)\n",
      "025deg_jra55v13_iaf_gmredi6\n",
      "-34\n",
      "Using database sqlite:////g/data3/hh5/tmp/cosima/cosima-cookbook/cosima-cookbook.db\n"
     ]
    },
    {
     "name": "stderr",
     "output_type": "stream",
     "text": [
      "/g/data3/hh5/public/apps/miniconda3/envs/analysis3-19.01/lib/python3.6/site-packages/dask/compatibility.py:93: FutureWarning: The autoclose argument is no longer used by xarray.open_dataset() and is now ignored; it will be removed in a future version of xarray. If necessary, you can control the maximum number of simultaneous open files with xarray.set_options(file_cache_maxsize=...).\n",
      "  return func(*args, **kwargs)\n"
     ]
    },
    {
     "name": "stdout",
     "output_type": "stream",
     "text": [
      "Saving cache file cache_get_nc_variable_025deg_jra55v13_iaf_gmredi6_ocean_month.nc_net_sfc_heating_-1_days-since-1718-01-01_-87658_False.pkl\n",
      "(12, 1080, 1440)\n"
     ]
    },
    {
     "name": "stderr",
     "output_type": "stream",
     "text": [
      "/g/data3/hh5/public/apps/miniconda3/envs/analysis3-19.01/lib/python3.6/site-packages/dask/array/numpy_compat.py:28: RuntimeWarning: invalid value encountered in true_divide\n",
      "  x = np.divide(x1, x2, out)\n"
     ]
    },
    {
     "name": "stdout",
     "output_type": "stream",
     "text": [
      "(1, 1080, 1440)\n",
      "(1080, 1440) (1, 1080, 1440)\n",
      "(1080, 1440)\n",
      "Using database sqlite:////g/data3/hh5/tmp/cosima/cosima-cookbook/cosima-cookbook.db\n"
     ]
    },
    {
     "name": "stderr",
     "output_type": "stream",
     "text": [
      "/g/data3/hh5/public/apps/miniconda3/envs/analysis3-19.01/lib/python3.6/site-packages/xarray/core/nanops.py:159: RuntimeWarning: Mean of empty slice\n",
      "  return np.nanmean(a, axis=axis, dtype=dtype)\n"
     ]
    }
   ],
   "source": [
    "# Plot just surface heat flux inferred method:\n",
    "fig = plt.figure(figsize=(8,5))\n",
    "plt.xlabel('Latitude $(^\\circ N)$')\n",
    "plt.ylabel('Atlantic Meridional Heat Flux (PW)')\n",
    "for i, ekey in enumerate(exptdata.exptdict.keys()):\n",
    "    print(ekey)\n",
    "    print(latv.shape,MHF.shape)\n",
    "    latv, MHF = find_AtlMHF(ekey)\n",
    "\n",
    "    plt.plot(latv,MHF/1.e15,linewidth=2, label=exptdata.exptdict[ekey]['desc'])\n",
    "\n",
    "plt.legend()\n",
    "savefigure('Atlantic meridional_heat_transport')"
   ]
  },
  {
   "cell_type": "code",
   "execution_count": null,
   "metadata": {},
   "outputs": [],
   "source": []
  },
  {
   "cell_type": "code",
   "execution_count": null,
   "metadata": {},
   "outputs": [],
   "source": []
  },
  {
   "cell_type": "code",
   "execution_count": null,
   "metadata": {},
   "outputs": [],
   "source": []
  },
  {
   "cell_type": "code",
   "execution_count": null,
   "metadata": {},
   "outputs": [],
   "source": [
    "NYFCntrlDir = '/g/data1/v45/pas561/access-om2_amoc/'\n",
    "\n",
    "Ocean_File = os.path.join(NYFCntrlDir,'om2_1_amoc_mask.nc')\n",
    "print(Ocean_File)\n",
    "cntrl=xr.open_mfdataset(Ocean_File,engine='netcdf4',concat_dim='time',decode_times=False)\n",
    "print(cntrl.kmu.shape)\n",
    "mask=cntrl.kmu[0].load()\n",
    "mask=np.nan_to_num(mask)\n",
    "print(mask.shape)"
   ]
  },
  {
   "cell_type": "code",
   "execution_count": null,
   "metadata": {},
   "outputs": [],
   "source": [
    "#try this method\n",
    "expt = '1deg_jra55v13_iaf_spinup1_B1'  ## choosing our 1 degree experiment\n",
    "n_files = -12                          ## Last 12 files is last 60 years\n",
    "time_units = 'days since 1718-01-01'   ## These are to give correct dates\n",
    "offset = -87658\n",
    "\n",
    "\n",
    "shflux = cc.get_nc_variable(expt, 'ocean_month.nc', 'net_sfc_heating',\n",
    "                          n=n_files, time_units = time_units, offset=offset, use_cache=True)\n",
    "\n",
    "print(shflux.shape)\n",
    "shflux= shflux.resample(time='A').mean('time')\n",
    "#print(shflux_am.shape)\n",
    "    \n",
    "shflux_am=shflux*mask\n",
    "print('resampled',shflux_am.shape)\n",
    "\n",
    "area = cc.get_nc_variable(expt, 'ocean_grid.nc','area_t',n=1).load()\n",
    "lat = cc.get_nc_variable(expt, 'ocean_grid.nc','geolat_t',n=1).load()\n",
    "latv = cc.get_nc_variable(expt, 'ocean_grid.nc','yt_ocean',n=1).load()\n",
    "\n",
    "MHF = np.zeros((60,latv.shape[0]))\n",
    "print(MHF.shape)\n",
    "\n",
    "for t in range(60):\n",
    "    tmp1=shflux_am[t,:]\n",
    "    tmp2 = np.zeros_like(latv)\n",
    "    \n",
    "    for i in range(len(latv)):\n",
    "        inds = lat < latv[i]\n",
    "        tmp2[i] = np.sum(area.where(lat < latv[i])*tmp1.where(lat < latv[i]))\n",
    "\n",
    "    print(t,tmp2.shape,MHF.shape)\n",
    "    MHF[t,:] = tmp2 + (tmp2[0]-tmp2[-1])/2\n",
    "\n",
    "## Plot the mean for the North Atlantic region\n",
    "#psi.mean('time').plot.contourf(levels=np.arange(-29,30,2))\n",
    "\n",
    "## Save the whole dataset\n",
    "#MHF.to_netcdf('ATl_MHT_1deg.nc')\n",
    "\n",
    "print(MHF.shape)\n",
    "a=np.save('ATl_MHT_1deg.npy',MHF)\n"
   ]
  },
  {
   "cell_type": "code",
   "execution_count": null,
   "metadata": {},
   "outputs": [],
   "source": []
  },
  {
   "cell_type": "code",
   "execution_count": null,
   "metadata": {},
   "outputs": [],
   "source": [
    "NYFCntrlDir = '/g/data1/v45/pas561/access-om2_amoc/'\n",
    "\n",
    "Ocean_File = os.path.join(NYFCntrlDir,'om2_025_amoc_mask.nc')\n",
    "print(Ocean_File)\n",
    "cntrl=xr.open_mfdataset(Ocean_File,engine='netcdf4',concat_dim='time',decode_times=False)\n",
    "print(cntrl.kmu.shape)\n",
    "mask=cntrl.kmu[0].load()\n",
    "mask=np.nan_to_num(mask)\n",
    "print(mask.shape)"
   ]
  },
  {
   "cell_type": "code",
   "execution_count": null,
   "metadata": {},
   "outputs": [],
   "source": [
    "expt = '025deg_jra55v13_iaf_gmredi6'\n",
    "n_files = -34                          ## Last 30 files is last 60 years\n",
    "time_units = 'days since 1718-01-01'   ## These are to give correct dates\n",
    "offset = -87658\n",
    "\n",
    "shflux = cc.get_nc_variable(expt, 'ocean_month.nc', 'net_sfc_heating',\n",
    "                          n=n_files, time_units = time_units, offset=offset, use_cache=True)\n",
    "\n",
    "print(shflux.shape)\n",
    "#shflux_am = shflux.mean('annual').load()\n",
    "#print(shflux_am.shape)\n",
    "    \n",
    "print(shflux.shape)\n",
    "shflux= shflux.resample(time='A').mean('time')\n",
    "#print(shflux_am.shape)\n",
    "    \n",
    "shflux_am=shflux*mask\n",
    "print('resampled',shflux_am.shape)\n",
    "\n",
    "area = cc.get_nc_variable(expt, 'ocean_grid.nc','area_t',n=1).load()\n",
    "lat = cc.get_nc_variable(expt, 'ocean_grid.nc','geolat_t',n=1).load()\n",
    "latv = cc.get_nc_variable(expt, 'ocean_grid.nc','yt_ocean',n=1).load()\n",
    "print(shflux.shape)\n",
    "shflux= shflux.resample(time='A').mean('time')\n",
    "#print(shflux_am.shape)\n",
    "    \n",
    "shflux_am=shflux*mask\n",
    "print('resampled',shflux_am.shape)\n",
    "\n",
    "area = cc.get_nc_variable(expt, 'ocean_grid.nc','area_t',n=1).load()\n",
    "lat = cc.get_nc_variable(expt, 'ocean_grid.nc','geolat_t',n=1).load()\n",
    "latv = cc.get_nc_variable(expt, 'ocean_grid.nc','yt_ocean',n=1).load()\n",
    "\n",
    "MHF = np.zeros((60,latv.shape[0]))\n",
    "print(MHF.shape)\n",
    "\n",
    "for t in range(60):\n",
    "    tmp1=shflux_am[t,:]\n",
    "    tmp2 = np.zeros_like(latv)\n",
    "    \n",
    "    for i in range(len(latv)):\n",
    "        inds = lat < latv[i]\n",
    "        tmp2[i] = np.sum(area.where(lat < latv[i])*tmp1.where(lat < latv[i]))\n",
    "\n",
    "    print(t,tmp2.shape,MHF.shape)\n",
    "    MHF[t,:] = tmp2 + (tmp2[0]-tmp2[-1])/2\n",
    "\n",
    "## Plot the mean for the North Atlantic region\n",
    "#psi.mean('time').plot.contourf(levels=np.arange(-29,30,2))\n",
    "\n",
    "## Save the whole dataset\n",
    "#MHF.to_netcdf('ATl_MHT_1deg.nc')\n",
    "\n",
    "print(MHF.shape)\n",
    "a=np.save('ATl_MHT_025deg.npy',MHF)\n",
    "\n",
    "## Plot the mean for the North Atlantic region\n",
    "#psi.mean('time').plot.contourf(levels=np.arange(-29,30,2))\n",
    "\n",
    "## Save the whole dataset\n",
    "#MHF.to_netcdf('ATl_MHT_1deg.nc')\n",
    "\n",
    "print(MHF.shape)\n",
    "a=np.save('ATl_MHT_025deg_monthly.npy',MHF)\n"
   ]
  },
  {
   "cell_type": "code",
   "execution_count": null,
   "metadata": {},
   "outputs": [],
   "source": []
  }
 ],
 "metadata": {
  "kernelspec": {
   "display_name": "Python 3",
   "language": "python",
   "name": "python3"
  },
  "language_info": {
   "codemirror_mode": {
    "name": "ipython",
    "version": 3
   },
   "file_extension": ".py",
   "mimetype": "text/x-python",
   "name": "python",
   "nbconvert_exporter": "python",
   "pygments_lexer": "ipython3",
   "version": "3.6.7"
  }
 },
 "nbformat": 4,
 "nbformat_minor": 2
}
